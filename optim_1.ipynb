{
 "cells": [
  {
   "cell_type": "code",
   "execution_count": 353,
   "metadata": {},
   "outputs": [],
   "source": [
    "def get_random_matrix(size: int = 6) -> Matrix:\n",
    "    m = Matrix(SR, [[floor(random()*3+1) for i in range(size)] for _ in range(size)])\n",
    "    return m"
   ]
  },
  {
   "cell_type": "code",
   "execution_count": 354,
   "outputs": [],
   "source": [
    "def get_random_vector(size: int = 6) -> Matrix:\n",
    "    return Matrix(SR, [[floor(random()*3+1)] for i in range(6)])"
   ],
   "metadata": {
    "collapsed": false
   }
  },
  {
   "cell_type": "code",
   "execution_count": 355,
   "outputs": [],
   "source": [
    "b = get_random_vector().transpose()"
   ],
   "metadata": {
    "collapsed": false
   }
  },
  {
   "cell_type": "code",
   "execution_count": 356,
   "outputs": [
    {
     "data": {
      "text/plain": "\\left(\\begin{array}{rrrrrr}\n1 & 3 & 1 & 1 & 2 & 1\n\\end{array}\\right)"
     },
     "execution_count": 356,
     "metadata": {},
     "output_type": "execute_result"
    }
   ],
   "source": [
    "latex(b)"
   ],
   "metadata": {
    "collapsed": false
   }
  },
  {
   "cell_type": "code",
   "execution_count": 357,
   "outputs": [
    {
     "name": "stdout",
     "output_type": "stream",
     "text": [
      "[162.832065705276, 10.5922873727935, 4.70843451235329, 1.78629088338168, 1.07778748616104, 0.00313404003406182]\n"
     ]
    },
    {
     "name": "stderr",
     "output_type": "stream",
     "text": [
      "/tmp/ipykernel_4668/2643229711.py:13: UserWarning: Using generic algorithm for an inexact ring, which will probably give incorrect results due to numerical precision issues.\n",
      "  print(m.change_ring(RR).eigenvalues())\n",
      "/tmp/ipykernel_4668/2643229711.py:14: UserWarning: Using generic algorithm for an inexact ring, which will probably give incorrect results due to numerical precision issues.\n",
      "  if True in list(map(lambda x: x<=Integer(0), m.change_ring(RR).eigenvalues())):\n"
     ]
    },
    {
     "data": {
      "text/plain": "\\left(\\begin{array}{rrrrrr}\n26 & 19 & 27 & 22 & 28 & 30 \\\\\n19 & 20 & 25 & 21 & 22 & 24 \\\\\n27 & 25 & 36 & 30 & 31 & 32 \\\\\n22 & 21 & 30 & 28 & 26 & 24 \\\\\n28 & 22 & 31 & 26 & 33 & 31 \\\\\n30 & 24 & 32 & 24 & 31 & 38\n\\end{array}\\right)"
     },
     "execution_count": 357,
     "metadata": {},
     "output_type": "execute_result"
    }
   ],
   "source": [
    "m = get_random_matrix()\n",
    "m = m.transpose()*m\n",
    "# m=Matrix(SR, [[11, 1, 4, 8, 5, 10],\n",
    "#                    [1, 2, 2, 2, 1, 3],\n",
    "#                    [4, 2, 9, 1, 0, 4],\n",
    "#                    [8, 2, 1, 9, 6, 10],\n",
    "#                    [5, 1, 0, 6, 5, 6],\n",
    "#                    [10, 3, 4, 10, 6, 13]])\n",
    "def check_matrix(m):\n",
    "    for i in range(1,6):\n",
    "        if m[:i,:i].det() <= 0:\n",
    "            return False\n",
    "    print(m.change_ring(RR).eigenvalues())\n",
    "    if True in list(map(lambda x: x<=0, m.change_ring(RR).eigenvalues())):\n",
    "        return False\n",
    "    return True\n",
    "\n",
    "while not check_matrix(m):\n",
    "    m = get_random_matrix()\n",
    "    \n",
    "latex(m)"
   ],
   "metadata": {
    "collapsed": false
   }
  },
  {
   "cell_type": "code",
   "execution_count": 358,
   "outputs": [],
   "source": [
    "x = Matrix([[var('x1')],[var('x2')],[var('x3')],[var('x4')],[var('x5')],[var('x6')]])"
   ],
   "metadata": {
    "collapsed": false
   }
  },
  {
   "cell_type": "code",
   "execution_count": 359,
   "outputs": [
    {
     "data": {
      "text/plain": "[x1 x2 x3 x4 x5 x6]"
     },
     "execution_count": 359,
     "metadata": {},
     "output_type": "execute_result"
    }
   ],
   "source": [
    "xt = x.transpose()\n",
    "xt"
   ],
   "metadata": {
    "collapsed": false
   }
  },
  {
   "cell_type": "code",
   "execution_count": 360,
   "outputs": [],
   "source": [
    "A=m\n",
    "f = (1/2*xt*A*x+b*x)[0,0]"
   ],
   "metadata": {
    "collapsed": false
   }
  },
  {
   "cell_type": "code",
   "execution_count": 414,
   "outputs": [
    {
     "name": "stdout",
     "output_type": "stream",
     "text": [
      "[26*x1 + 19*x2 + 27*x3 + 22*x4 + 28*x5 + 30*x6 + 1]\n",
      "[26*x1 + 19*x2 + 27*x3 + 22*x4 + 28*x5 + 30*x6 + 1, 19*x1 + 20*x2 + 25*x3 + 21*x4 + 22*x5 + 24*x6 + 3]\n",
      "[26*x1 + 19*x2 + 27*x3 + 22*x4 + 28*x5 + 30*x6 + 1, 19*x1 + 20*x2 + 25*x3 + 21*x4 + 22*x5 + 24*x6 + 3, 27*x1 + 25*x2 + 36*x3 + 30*x4 + 31*x5 + 32*x6 + 1]\n",
      "[26*x1 + 19*x2 + 27*x3 + 22*x4 + 28*x5 + 30*x6 + 1, 19*x1 + 20*x2 + 25*x3 + 21*x4 + 22*x5 + 24*x6 + 3, 27*x1 + 25*x2 + 36*x3 + 30*x4 + 31*x5 + 32*x6 + 1, 22*x1 + 21*x2 + 30*x3 + 28*x4 + 26*x5 + 24*x6 + 1]\n",
      "[26*x1 + 19*x2 + 27*x3 + 22*x4 + 28*x5 + 30*x6 + 1, 19*x1 + 20*x2 + 25*x3 + 21*x4 + 22*x5 + 24*x6 + 3, 27*x1 + 25*x2 + 36*x3 + 30*x4 + 31*x5 + 32*x6 + 1, 22*x1 + 21*x2 + 30*x3 + 28*x4 + 26*x5 + 24*x6 + 1, 28*x1 + 22*x2 + 31*x3 + 26*x4 + 33*x5 + 31*x6 + 2]\n",
      "[26*x1 + 19*x2 + 27*x3 + 22*x4 + 28*x5 + 30*x6 + 1, 19*x1 + 20*x2 + 25*x3 + 21*x4 + 22*x5 + 24*x6 + 3, 27*x1 + 25*x2 + 36*x3 + 30*x4 + 31*x5 + 32*x6 + 1, 22*x1 + 21*x2 + 30*x3 + 28*x4 + 26*x5 + 24*x6 + 1, 28*x1 + 22*x2 + 31*x3 + 26*x4 + 33*x5 + 31*x6 + 2, 30*x1 + 24*x2 + 32*x3 + 24*x4 + 31*x5 + 38*x6 + 1]\n",
      "[26*x1 + 19*x2 + 27*x3 + 22*x4 + 28*x5 + 30*x6 + 1]\n",
      "[19*x1 + 20*x2 + 25*x3 + 21*x4 + 22*x5 + 24*x6 + 3]\n",
      "[27*x1 + 25*x2 + 36*x3 + 30*x4 + 31*x5 + 32*x6 + 1]\n",
      "[22*x1 + 21*x2 + 30*x3 + 28*x4 + 26*x5 + 24*x6 + 1]\n",
      "[28*x1 + 22*x2 + 31*x3 + 26*x4 + 33*x5 + 31*x6 + 2]\n",
      "[30*x1 + 24*x2 + 32*x3 + 24*x4 + 31*x5 + 38*x6 + 1]\n",
      "\\left(\\begin{array}{r}\n",
      "26 \\, x_{1} + 19 \\, x_{2} + 27 \\, x_{3} + 22 \\, x_{4} + 28 \\, x_{5} + 30 \\, x_{6} + 1 \\\\\n",
      "19 \\, x_{1} + 20 \\, x_{2} + 25 \\, x_{3} + 21 \\, x_{4} + 22 \\, x_{5} + 24 \\, x_{6} + 3 \\\\\n",
      "27 \\, x_{1} + 25 \\, x_{2} + 36 \\, x_{3} + 30 \\, x_{4} + 31 \\, x_{5} + 32 \\, x_{6} + 1 \\\\\n",
      "22 \\, x_{1} + 21 \\, x_{2} + 30 \\, x_{3} + 28 \\, x_{4} + 26 \\, x_{5} + 24 \\, x_{6} + 1 \\\\\n",
      "28 \\, x_{1} + 22 \\, x_{2} + 31 \\, x_{3} + 26 \\, x_{4} + 33 \\, x_{5} + 31 \\, x_{6} + 2 \\\\\n",
      "30 \\, x_{1} + 24 \\, x_{2} + 32 \\, x_{3} + 24 \\, x_{4} + 31 \\, x_{5} + 38 \\, x_{6} + 1\n",
      "\\end{array}\\right)\n"
     ]
    }
   ],
   "source": [
    "old_differential = []\n",
    "for i in [x1,x2,x3,x4,x5,x6]:\n",
    "    old_differential.append(diff(f, i))\n",
    "    print(old_differential)\n",
    "old_differential = Matrix([[i] for i in old_differential])\n",
    "print(old_differential)\n",
    "differential = 1/2*(A.transpose()+A)*Matrix([x1,x2,x3,x4,x5,x6]).transpose()+b.transpose()\n",
    "print(latex(differential))"
   ],
   "metadata": {
    "collapsed": false
   }
  },
  {
   "cell_type": "code",
   "execution_count": 430,
   "outputs": [
    {
     "name": "stdout",
     "output_type": "stream",
     "text": [
      "\\left\\{x_{1} : -110.959, x_{2} : -54.469, x_{3} : -29.592, x_{4} : 52.163, x_{5} : 43.041, x_{6} : 78.837\\right\\}\n",
      "\\left\\{x_{1} : -95, x_{2} : -50, x_{3} : -8, x_{4} : 30, x_{5} : 16, x_{6} : 121\\right\\}\n"
     ]
    }
   ],
   "source": [
    "local_solution = solve([differential[i,0] == 0 for i in range(6)], [x1, x2, x3, x4, x5, x6], solution_dict=True)[0]\n",
    "print_solution = {}\n",
    "x_0 = {}\n",
    "for k in local_solution.keys():\n",
    "    print_solution[k]=round(RR(local_solution[k]), 3)\n",
    "    # x_0[k] = round(RR(local_solution[k])+floor(random()*5), 0)\n",
    "x_0 = {\n",
    "    x1: -95,\n",
    "    x2: -50,\n",
    "    x3: -8,\n",
    "    x4: 30,\n",
    "    x5: 16,\n",
    "    x6: 121\n",
    "}\n",
    "print(latex(print_solution))\n",
    "print(latex(x_0))"
   ],
   "metadata": {
    "collapsed": false
   }
  },
  {
   "cell_type": "code",
   "execution_count": 431,
   "outputs": [
    {
     "name": "stdout",
     "output_type": "stream",
     "text": [
      "\\left\\{x_{1} : -\\frac{5437}{49}, x_{2} : -\\frac{2669}{49}, x_{3} : -\\frac{1450}{49}, x_{4} : \\frac{2556}{49}, x_{5} : \\frac{2109}{49}, x_{6} : \\frac{3863}{49}\\right\\}\n",
      "\\left\\{x_{1} : -95, x_{2} : -50, x_{3} : -8, x_{4} : 30, x_{5} : 16, x_{6} : 121\\right\\}\n"
     ]
    }
   ],
   "source": [
    "print(latex(local_solution))\n",
    "print(latex(x_0))"
   ],
   "metadata": {
    "collapsed": false
   }
  },
  {
   "cell_type": "code",
   "execution_count": 432,
   "outputs": [
    {
     "name": "stdout",
     "output_type": "stream",
     "text": [
      "\\left(\\begin{array}{r}\n",
      "-100.515000000000 \\\\\n",
      "-54.4200000000000 \\\\\n",
      "-13.8300000000000 \\\\\n",
      "26.0950000000000 \\\\\n",
      "10.7350000000000 \\\\\n",
      "113.455000000000\n",
      "\\end{array}\\right)\n",
      "10130.3591875000\n",
      "\\left(\\begin{array}{r}\n",
      "-101.807700000000 \\\\\n",
      "-55.2507500000000 \\\\\n",
      "-14.7045500000000 \\\\\n",
      "26.2718000000000 \\\\\n",
      "10.1778000000000 \\\\\n",
      "110.918675000000\n",
      "\\end{array}\\right)\n",
      "8672.58878006937\n",
      "\\left(\\begin{array}{r}\n",
      "-102.296354750000 \\\\\n",
      "-55.4192127500000 \\\\\n",
      "-14.6776647500000 \\\\\n",
      "27.1612512500000 \\\\\n",
      "10.4906001250000 \\\\\n",
      "109.362924750000\n",
      "\\end{array}\\right)\n",
      "7989.84674804341\n",
      "\\left(\\begin{array}{r}\n",
      "-104.164203099976 \\\\\n",
      "-51.2142854897838 \\\\\n",
      "-27.6473299153814 \\\\\n",
      "48.9023672959897 \\\\\n",
      "40.3964195264675 \\\\\n",
      "73.9951271840518\n",
      "\\end{array}\\right)\n",
      "-43.2709186107958\n",
      "-43.2709186107958 827\n",
      "-43.4387755102041\n"
     ]
    }
   ],
   "source": [
    "def get_new_x(xs):\n",
    "    new_x = Matrix([[xs[x1]], [xs[x2]], [xs[x3]], [xs[x4]], [xs[x5]], [xs[x6]]]) - 0.005*differential(xs)\n",
    "    # print(xs[x1]-0.0001*differential(xs)[0,0], new_x[0,0])\n",
    "    # print(differential(xs)[:,0])\n",
    "    # print()\n",
    "    return {\n",
    "        x1: new_x[0,0],\n",
    "        x2: new_x[1,0],\n",
    "        x3: new_x[2,0],\n",
    "        x4: new_x[3,0],\n",
    "        x5: new_x[4,0],\n",
    "        x6: new_x[5,0],\n",
    "    }\n",
    "\n",
    "cnt = 0\n",
    "final_cnt = 827\n",
    "values = []\n",
    "while abs(f(x_0)-f(get_new_x(x_0)))>0.0001:\n",
    "    # print(RR(f(local_solution)-f(x_0)))\n",
    "    x_0 = get_new_x(x_0)\n",
    "    values.append(f(x_0))\n",
    "    cnt += 1\n",
    "    if cnt % final_cnt//4 == 0:\n",
    "        print (latex(Matrix(x_0.values()).transpose()))\n",
    "        print(f(x_0))\n",
    "        \n",
    "print(f(x_0), cnt)\n",
    "print(RR(f(local_solution)))"
   ],
   "metadata": {
    "collapsed": false
   }
  },
  {
   "cell_type": "code",
   "execution_count": 429,
   "outputs": [
    {
     "name": "stdout",
     "output_type": "stream",
     "text": [
      "\\left(\\begin{array}{r}\n",
      "-104.164203099976 \\\\\n",
      "-51.2142854897838 \\\\\n",
      "-27.6473299153814 \\\\\n",
      "48.9023672959897 \\\\\n",
      "40.3964195264675 \\\\\n",
      "73.9951271840518\n",
      "\\end{array}\\right)\n"
     ]
    }
   ],
   "source": [
    "print(latex(Matrix(x_0.values()).transpose()))"
   ],
   "metadata": {
    "collapsed": false
   }
  },
  {
   "cell_type": "code",
   "execution_count": 462,
   "outputs": [
    {
     "data": {
      "image/png": "[encoded data removed]",
      "text/plain": "Graphics object consisting of 826 graphics primitives"
     },
     "execution_count": 462,
     "metadata": {},
     "output_type": "execute_result"
    }
   ],
   "source": [
    "from sage.plot.contour_plot import ContourPlot\n",
    "\n",
    "pl = None\n",
    "for po in list(zip(srange(1, final_cnt), values)):\n",
    "    if pl is None:\n",
    "        pl = point(po)\n",
    "    else:\n",
    "        pl += point(po)\n",
    "pl.plot()"
   ],
   "metadata": {
    "collapsed": false
   }
  },
  {
   "cell_type": "code",
   "execution_count": 458,
   "outputs": [
    {
     "data": {
      "text/html": "<html>\\(\\displaystyle \\verb|ContourPlot|\\verb| |\\verb|defined|\\verb| |\\verb|by|\\verb| |\\verb|a|\\verb| |\\verb|826|\\verb| |\\verb|x|\\verb| |\\verb|2|\\verb| |\\verb|data|\\verb| |\\verb|grid|\\)</html>",
      "text/plain": "ContourPlot defined by a 826 x 2 data grid",
      "text/latex": "$\\displaystyle \\verb|ContourPlot|\\verb| |\\verb|defined|\\verb| |\\verb|by|\\verb| |\\verb|a|\\verb| |\\verb|826|\\verb| |\\verb|x|\\verb| |\\verb|2|\\verb| |\\verb|data|\\verb| |\\verb|grid|$"
     },
     "metadata": {},
     "output_type": "display_data"
    }
   ],
   "source": [
    "show(p)"
   ],
   "metadata": {
    "collapsed": false
   }
  },
  {
   "cell_type": "code",
   "execution_count": null,
   "outputs": [],
   "source": [],
   "metadata": {
    "collapsed": false
   }
  }
 ],
 "metadata": {
  "kernelspec": {
   "display_name": "SageMath 9.7",
   "language": "sage",
   "name": "sagemath"
  },
  "language_info": {
   "codemirror_mode": {
    "name": "ipython",
    "version": 3
   },
   "file_extension": ".py",
   "mimetype": "text/x-python",
   "name": "python",
   "nbconvert_exporter": "python",
   "pygments_lexer": "ipython3",
   "version": "3.10.9"
  }
 },
 "nbformat": 4,
 "nbformat_minor": 1
}
