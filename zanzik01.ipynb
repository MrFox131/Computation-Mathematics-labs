{
 "cells": [
  {
   "cell_type": "code",
   "execution_count": 18,
   "metadata": {},
   "outputs": [],
   "source": [
    "x = var('x')\n",
    "y = var('y')\n",
    "z = var('z')"
   ]
  },
  {
   "cell_type": "code",
   "execution_count": 19,
   "metadata": {},
   "outputs": [],
   "source": [
    "equation = -x**2/7**2+y**2/4**2==(z-10)**2"
   ]
  },
  {
   "cell_type": "code",
   "execution_count": 20,
   "metadata": {},
   "outputs": [
    {
     "data": {
      "text/plain": "[{z: -1/28*sqrt(-16*x^2 + 49*y^2) + 10}, {z: 1/28*sqrt(-16*x^2 + 49*y^2) + 10}]"
     },
     "execution_count": 20,
     "metadata": {},
     "output_type": "execute_result"
    }
   ],
   "source": [
    "solutions = solve([equation], z, solution_dict=True)\n",
    "solutions"
   ]
  },
  {
   "cell_type": "code",
   "execution_count": 21,
   "metadata": {},
   "outputs": [
    {
     "name": "stdout",
     "output_type": "stream",
     "text": [
      "(10, 10, -5/14*sqrt(33) + 10)\n",
      "(10, 10, 5/14*sqrt(33) + 10)\n"
     ]
    }
   ],
   "source": [
    "class Point:\n",
    "    def __init__(self, x, y, function):\n",
    "        self._x = x\n",
    "        self._y = y\n",
    "        self.function = function\n",
    "\n",
    "    def z(self):\n",
    "        return self.function(x=self._x, y=self._y)\n",
    "    def x(self):\n",
    "        return self._x\n",
    "    def y(self):\n",
    "        return self._y\n",
    "\n",
    "    def __str__(self):\n",
    "        return f\"({self.x()}, {self.y()}, {self.z()})\"\n",
    "\n",
    "base_point_neg = Point(10,10, solutions[0][z])\n",
    "base_point_pos = Point(10, 10, solutions[1][z])\n",
    "\n",
    "print(base_point_neg)\n",
    "print(base_point_pos)\n"
   ]
  },
  {
   "cell_type": "code",
   "execution_count": 22,
   "metadata": {},
   "outputs": [
    {
     "name": "stdout",
     "output_type": "stream",
     "text": [
      "(-11, 24, 4)\n",
      "[<function <lambda> at 0x7f8dd539ae60>, <function <lambda> at 0x7f8dd539aef0>]\n",
      "[<function <lambda> at 0x7f8dd539a5f0>, <function <lambda> at 0x7f8dd539a560>]\n",
      "Заебумба\n",
      "(-10.9967149345422, 24.0434988379536, 4.19804328478955)\n",
      "0.202790737482280\n",
      "Заебумба\n",
      "(-10.5137834512103, 20.7644443740189, 14.9690767064433)\n",
      "11.4466532459480\n"
     ]
    },
    {
     "data": {
      "text/plain": "<__main__.Point object at 0x7f8dd6a92e60>"
     },
     "execution_count": 22,
     "metadata": {},
     "output_type": "execute_result"
    }
   ],
   "source": [
    "def distance(p1: Point, p2: Point):\n",
    "    return sqrt((p1.x()-p2.x())**2+(p1.y()-p2.y())**2+(p1.z()-p2.z())**2)\n",
    "\n",
    "target_point = Point(-11, 24, lambda x, y: 4)\n",
    "\n",
    "print(target_point)\n",
    "\n",
    "target_function = lambda p: distance(target_point, p)\n",
    "\n",
    "diffs_for_neg = [\n",
    "    lambda p: diff(sqrt((target_point.x()-x)**2+(target_point.y()-y)**2+(target_point.z()-solutions[0][z])**2), x)(x=p.x(), y=p.y()),\n",
    "    lambda p: diff(sqrt((target_point.x()-x)**2+(target_point.y()-y)**2+(target_point.z()-solutions[0][z])**2), y)(x=p.x(), y=p.y())\n",
    "]\n",
    "diffs_for_pos = [\n",
    "    lambda p: diff(sqrt((target_point.x()-x)**2+(target_point.y()-y)**2+(target_point.z()-solutions[1][z])**2), x)(x=p.x(), y=p.y()),\n",
    "    lambda p: diff(sqrt((target_point.x()-x)**2+(target_point.y()-y)**2+(target_point.z()-solutions[1][z])**2), y)(x=p.x(), y=p.y())\n",
    "]\n",
    "\n",
    "print(diffs_for_neg)\n",
    "print(diffs_for_pos)\n",
    "\n",
    "def optimize_point(point: Point, target_function, target_function_diffs, epsilon = 0.01):\n",
    "    prev_value = target_function(point)\n",
    "\n",
    "    step = 1.0\n",
    "\n",
    "    while True:\n",
    "        on_x = RR(target_function_diffs[0](point))\n",
    "        on_y = RR(target_function_diffs[1](point))\n",
    "\n",
    "        point._x-=step*on_x\n",
    "        point._y-=step*on_y\n",
    "\n",
    "        next_value = target_function(point)\n",
    "        if next_value > prev_value:\n",
    "            step /= 2\n",
    "            continue\n",
    "\n",
    "        if abs(prev_value - next_value) < epsilon:\n",
    "            print('Заебумба')\n",
    "            print(point)\n",
    "            print(next_value)\n",
    "            break\n",
    "        else:\n",
    "            prev_value = next_value\n",
    "    return point\n",
    "\n",
    "optimize_point(base_point_neg, target_function, diffs_for_neg)\n",
    "optimize_point(base_point_pos, target_function, diffs_for_pos)\n",
    "\n"
   ]
  },
  {
   "cell_type": "code",
   "execution_count": null,
   "metadata": {
    "pycharm": {
     "is_executing": true
    }
   },
   "outputs": [],
   "source": []
  },
  {
   "cell_type": "code",
   "execution_count": 26,
   "metadata": {},
   "outputs": [],
   "source": []
  }
 ],
 "metadata": {
  "kernelspec": {
   "display_name": "SageMath 9.7",
   "language": "sage",
   "name": "sagemath"
  },
  "language_info": {
   "codemirror_mode": {
    "name": "ipython",
    "version": 3
   },
   "file_extension": ".py",
   "mimetype": "text/x-python",
   "name": "python",
   "nbconvert_exporter": "python",
   "pygments_lexer": "ipython3",
   "version": "3.10.8"
  }
 },
 "nbformat": 4,
 "nbformat_minor": 1
}
