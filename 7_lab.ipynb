{
 "cells": [
  {
   "cell_type": "code",
   "execution_count": 4,
   "outputs": [
    {
     "data": {
      "text/plain": "x*log(x)/log(10) - 1/2"
     },
     "execution_count": 4,
     "metadata": {},
     "output_type": "execute_result"
    }
   ],
   "source": [
    "x = var('x')\n",
    "\n",
    "y = x * log(x, 10) -1/2\n",
    "y"
   ],
   "metadata": {
    "collapsed": false
   }
  },
  {
   "cell_type": "markdown",
   "source": [
    "Значение в точке 0 неопределено, и достоверно известно, что меньше ноля при `x<=1`. Поэтому начнем искать решения начиная с `x = 1`"
   ],
   "metadata": {
    "collapsed": false
   }
  },
  {
   "cell_type": "code",
   "execution_count": 6,
   "outputs": [
    {
     "data": {
      "text/plain": "log(x)/log(10) + 1/log(10)"
     },
     "execution_count": 6,
     "metadata": {},
     "output_type": "execute_result"
    }
   ],
   "source": [
    "differential = diff(y, x)"
   ],
   "metadata": {
    "collapsed": false
   }
  },
  {
   "cell_type": "markdown",
   "source": [
    "Очевидно, что производная при x>=1 больше ноля. => корень единственный. Отделим его"
   ],
   "metadata": {
    "collapsed": false
   }
  },
  {
   "cell_type": "code",
   "execution_count": 8,
   "outputs": [
    {
     "data": {
      "text/plain": "[1.80000000000000, 1.90000000000000]"
     },
     "execution_count": 8,
     "metadata": {},
     "output_type": "execute_result"
    }
   ],
   "source": [
    "current_point = 1\n",
    "step = 0.1\n",
    "root_borders = [current_point, 10000000000]\n",
    "\n",
    "while y(x = current_point) < 0:\n",
    "    root_borders[0] = current_point\n",
    "    current_point += step\n",
    "\n",
    "root_borders[1] = current_point\n",
    "\n",
    "root_borders\n"
   ],
   "metadata": {
    "collapsed": false
   }
  },
  {
   "cell_type": "code",
   "execution_count": 20,
   "outputs": [
    {
     "name": "stdout",
     "output_type": "stream",
     "text": [
      "Метод касательных слева, метод хорд справа\n"
     ]
    }
   ],
   "source": [
    "second_differential = diff(y, x, 2)\n",
    "\n",
    "tangent_method_sign = 0\n",
    "chord_method_sign = 0\n",
    "\n",
    "if sign(y(x=root_borders[0])) == sign(y(x=root_borders[0])):\n",
    "    print(\"Метод касательных слева, метод хорд справа\")\n",
    "    tangent_method_sign = sign(y(x=root_borders[0]))\n",
    "    chord_method_sign = - tangent_method_sign\n",
    "elif sign(y(x=root_borders[1])) == sign(y(x=root_borders[1])):\n",
    "    print(\"Метод касательных справа, метод хорд слева\")\n",
    "    tangent_method_sign = sign(y(x=root_borders[0]))\n",
    "    chord_method_sign = - tangent_method_sign\n"
   ],
   "metadata": {
    "collapsed": false
   }
  },
  {
   "cell_type": "code",
   "execution_count": 23,
   "outputs": [
    {
     "name": "stdout",
     "output_type": "stream",
     "text": [
      "Ответ: 1.85816075924170\n"
     ]
    }
   ],
   "source": [
    "def tangent_method():\n",
    "    epsilon = float(input(\"Введите желаемую точность\"))\n",
    "    func = x - y/differential\n",
    "    starting_point = 0\n",
    "    if tangent_method_sign == 1:\n",
    "        starting_point = root_borders[0]\n",
    "    else:\n",
    "        starting_point = root_borders[1]\n",
    "\n",
    "    prev_value = func(x = starting_point)\n",
    "    while True:\n",
    "        next_value = func(x = prev_value)\n",
    "        if abs(next_value-prev_value) < epsilon:\n",
    "            print(f\"Ответ: {RR(next_value)}\")\n",
    "            break\n",
    "        prev_value = next_value\n",
    "\n",
    "tangent_method()"
   ],
   "metadata": {
    "collapsed": false
   }
  },
  {
   "cell_type": "code",
   "execution_count": 25,
   "outputs": [
    {
     "name": "stdout",
     "output_type": "stream",
     "text": [
      "Ответ: 1.85816075924170\n"
     ]
    }
   ],
   "source": [
    "def chord_method():\n",
    "    epsilon = float(input(\"Введите желаемую точность\"))\n",
    "    tangent_func = x - y/differential\n",
    "    tangent_starting_point = 0\n",
    "    chord_starting_point = 0\n",
    "    if tangent_method_sign == 1:\n",
    "        tangent_starting_point = root_borders[0]\n",
    "        chord_starting_point = root_borders[1]\n",
    "    else:\n",
    "        tangent_starting_point = root_borders[1]\n",
    "        chord_starting_point = root_borders[0]\n",
    "\n",
    "    prev_tangent = tangent_starting_point\n",
    "    prev = chord_starting_point\n",
    "\n",
    "    while True:\n",
    "        next = prev - y(x=prev)*(prev_tangent-prev)/(y(x=prev_tangent)-y(x=prev))\n",
    "\n",
    "        if abs(prev-next) < epsilon:\n",
    "            print(f\"Ответ: {RR(next)}\")\n",
    "            break\n",
    "        else:\n",
    "            prev = next\n",
    "            prev_tangent = tangent_func(x=prev_tangent)\n",
    "\n",
    "chord_method()\n"
   ],
   "metadata": {
    "collapsed": false
   }
  },
  {
   "cell_type": "code",
   "execution_count": 27,
   "outputs": [
    {
     "name": "stdout",
     "output_type": "stream",
     "text": [
      "[\n",
      "x == 1/2*log(10)/log(x)\n",
      "]\n"
     ]
    }
   ],
   "source": [
    "ideal = solve(y == 0, x, solutions_dict=True)\n",
    "print(ideal)"
   ],
   "metadata": {
    "collapsed": false
   }
  },
  {
   "cell_type": "code",
   "execution_count": 28,
   "outputs": [],
   "source": [
    "etalon = 1.8581607592416981736911452118211005983110"
   ],
   "metadata": {
    "collapsed": false
   }
  },
  {
   "cell_type": "code",
   "execution_count": null,
   "outputs": [],
   "source": [],
   "metadata": {
    "collapsed": false
   }
  }
 ],
 "metadata": {
  "kernelspec": {
   "display_name": "SageMath 9.7",
   "language": "sage",
   "name": "sagemath"
  },
  "language_info": {
   "codemirror_mode": {
    "name": "ipython",
    "version": 3
   },
   "file_extension": ".py",
   "mimetype": "text/x-python",
   "name": "python",
   "nbconvert_exporter": "python",
   "pygments_lexer": "ipython3",
   "version": "3.10.8"
  }
 },
 "nbformat": 4,
 "nbformat_minor": 1
}
