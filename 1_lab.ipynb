{
 "cells": [
  {
   "cell_type": "markdown",
   "source": [
    "## Костюков Максим Сергеевич\n",
    "Лабораторная работа номер 1\n",
    "Введем начальные условия, узлы сетки и значения в них\n",
    "Средствами sagemath введем переменую `x` и установим функцию"
   ],
   "metadata": {
    "collapsed": false,
    "pycharm": {
     "name": "#%% md\n"
    }
   }
  },
  {
   "cell_type": "code",
   "execution_count": 1,
   "outputs": [
    {
     "name": "stdout",
     "output_type": "stream",
     "text": [
      "[-0.595004165278026, -0.388771077936042, -0.180066577841242, 0.0310875782893553, 0.244663510874394, 0.460627287152621, 0.678939005997115, 0.899552897647323, 1.12241743810963, 1.34747547794049, 1.57466438509032]\n"
     ]
    }
   ],
   "source": [
    "target_x = 0.37\n",
    "left_border = 0.1\n",
    "right_border = 0.6\n",
    "steps_count = 10\n",
    "step = (right_border - left_border)/steps_count\n",
    "x_axis = [left_border + i * step for i in range(steps_count + 1)]\n",
    "\n",
    "\n",
    "x = var('x')\n",
    "y = 4*x-cos(x)\n",
    "\n",
    "values = [y(x=i) for i in x_axis]\n",
    "print(values)"
   ],
   "metadata": {
    "collapsed": false,
    "pycharm": {
     "name": "#%%\n"
    }
   }
  },
  {
   "cell_type": "markdown",
   "source": [
    "Функция `lagrange` конструирует интерполяционный полином Лагранжа `n`-ого порядка."
   ],
   "metadata": {
    "collapsed": false,
    "pycharm": {
     "name": "#%% md\n"
    }
   }
  },
  {
   "cell_type": "code",
   "execution_count": 43,
   "id": "ab5f1380",
   "metadata": {
    "pycharm": {
     "name": "#%%\n"
    }
   },
   "outputs": [],
   "source": [
    "def lagrange(n, values, nodes):\n",
    "    assert len(nodes) - 1 == n\n",
    "    polinomial = 0\n",
    "    for i in range(len(nodes)):\n",
    "        sum_element = values[nodes[i]]\n",
    "        for j in range(0, len(nodes)):\n",
    "            if i!=j:\n",
    "                sum_element *= (x-x_axis[nodes[j]])/(x_axis[nodes[i]]-x_axis[nodes[j]])\n",
    "        polinomial += sum_element\n",
    "    return polinomial\n"
   ]
  },
  {
   "cell_type": "code",
   "execution_count": 44,
   "id": "e9854654",
   "metadata": {
    "pycharm": {
     "name": "#%%\n"
    }
   },
   "outputs": [],
   "source": [
    "closest_left_node = int((target_x - 0.1) / step)\n",
    "\n",
    "L1 = lagrange(1, values, [closest_left_node, closest_left_node+1])\n",
    "L2 = lagrange(2, values, [closest_left_node-1,closest_left_node, closest_left_node+1])"
   ]
  },
  {
   "cell_type": "code",
   "execution_count": 45,
   "id": "b8a14450",
   "metadata": {
    "pycharm": {
     "name": "#%%\n"
    }
   },
   "outputs": [],
   "source": [
    "R1 = diff(y, x, 2)*(target_x-x_axis[closest_left_node])*(target_x-x_axis[closest_left_node+1])/2"
   ]
  },
  {
   "cell_type": "code",
   "execution_count": 46,
   "id": "9dd235a1",
   "metadata": {
    "pycharm": {
     "name": "#%%\n"
    }
   },
   "outputs": [],
   "source": [
    "R2 = diff(y, x, 3)*(target_x-x_axis[closest_left_node-1])*(target_x-x_axis[closest_left_node])*(target_x-x_axis[closest_left_node+1])/6"
   ]
  },
  {
   "cell_type": "code",
   "execution_count": 47,
   "id": "74020f0c",
   "metadata": {
    "pycharm": {
     "name": "#%%\n"
    }
   },
   "outputs": [
    {
     "name": "stdout",
     "output_type": "stream",
     "text": [
      "-0.00027631830007103584\n",
      "-0.0002818118121456192\n",
      "2.7259282637928806e-06\n",
      "2.0686415211750518e-06\n"
     ]
    }
   ],
   "source": [
    "R1_max = R1.find_local_maximum(0.35, 0.4)[0]\n",
    "R1_min = R1.find_local_minimum(0.35, 0.4)[0]\n",
    "R2_min = R2.find_local_minimum(0.3, 0.4)[0]\n",
    "R2_max = R2.find_local_maximum(0.3, 0.4)[0]\n",
    "print(R1_max, R1_min, R2_max, R2_min, sep = \"\\n\")"
   ]
  },
  {
   "cell_type": "code",
   "execution_count": 48,
   "id": "ade17320",
   "metadata": {
    "pycharm": {
     "name": "#%%\n"
    }
   },
   "outputs": [
    {
     "name": "stdout",
     "output_type": "stream",
     "text": [
      "0.547951974690418\n",
      "0.547670221582466\n",
      "0.547672654393966\n"
     ]
    }
   ],
   "source": [
    "print(L1(x=target_x))\n",
    "print(L2(x=target_x))\n",
    "print(y(x=target_x))"
   ]
  },
  {
   "cell_type": "code",
   "execution_count": 51,
   "id": "cb6c65cb",
   "metadata": {
    "pycharm": {
     "name": "#%%\n"
    }
   },
   "outputs": [
    {
     "name": "stdout",
     "output_type": "stream",
     "text": [
      "Победа\n"
     ]
    }
   ],
   "source": [
    "if R1_min <  y(x=target_x) - L1(x=target_x) < R1_max:\n",
    "    print(\"Победа\")"
   ]
  },
  {
   "cell_type": "code",
   "execution_count": 52,
   "id": "cbfbd24c",
   "metadata": {
    "pycharm": {
     "name": "#%%\n"
    }
   },
   "outputs": [
    {
     "name": "stdout",
     "output_type": "stream",
     "text": [
      "Победа\n"
     ]
    }
   ],
   "source": [
    "if R2_min < y(x=target_x) - L2(x=target_x) < R2_max:\n",
    "    print(\"Победа\")"
   ]
  },
  {
   "cell_type": "code",
   "execution_count": null,
   "id": "044d7333",
   "metadata": {
    "pycharm": {
     "name": "#%%\n"
    }
   },
   "outputs": [],
   "source": []
  }
 ],
 "metadata": {
  "kernelspec": {
   "display_name": "SageMath 9.6",
   "language": "sage",
   "name": "sagemath"
  },
  "language_info": {
   "codemirror_mode": {
    "name": "ipython",
    "version": 3
   },
   "file_extension": ".py",
   "mimetype": "text/x-python",
   "name": "python",
   "nbconvert_exporter": "python",
   "pygments_lexer": "ipython3",
   "version": "3.10.6"
  }
 },
 "nbformat": 4,
 "nbformat_minor": 5
}