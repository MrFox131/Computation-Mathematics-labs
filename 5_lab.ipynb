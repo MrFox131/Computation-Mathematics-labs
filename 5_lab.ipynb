{
 "cells": [
  {
   "cell_type": "code",
   "execution_count": 90,
   "metadata": {},
   "outputs": [],
   "source": [
    "def generate_3diagonal_matrix(n: int) -> Matrix:\n",
    "     from sage.misc.prandom import randrange\n",
    "     rows = [[0 for _ in range(n)] for _ in range(n)]\n",
    "     for i in range(n):\n",
    "         if i != 0:\n",
    "             rows[i][i-1] = randrange(100)\n",
    "         rows[i][i] = randrange(100)\n",
    "         if i != n-1:\n",
    "             rows[i][i+1] = randrange(100)\n",
    "     return Matrix(rows)"
   ]
  },
  {
   "cell_type": "code",
   "execution_count": 91,
   "outputs": [],
   "source": [
    "size = int(input(\"Введите размерность матрицы: \"))\n",
    "coefficents_matrix = generate_3diagonal_matrix(size)"
   ],
   "metadata": {
    "collapsed": false
   }
  },
  {
   "cell_type": "code",
   "execution_count": 92,
   "outputs": [
    {
     "name": "stdout",
     "output_type": "stream",
     "text": [
      "[85 65  0  0  0  0  0  0  0  0]\n",
      "[35 37 27  0  0  0  0  0  0  0]\n",
      "[ 0 52 75 57  0  0  0  0  0  0]\n",
      "[ 0  0 20 21 17  0  0  0  0  0]\n",
      "[ 0  0  0 40 61 47  0  0  0  0]\n",
      "[ 0  0  0  0 37 21 72  0  0  0]\n",
      "[ 0  0  0  0  0 80 62 78  0  0]\n",
      "[ 0  0  0  0  0  0 68 25 44  0]\n",
      "[ 0  0  0  0  0  0  0  6 50 14]\n",
      "[ 0  0  0  0  0  0  0  0 62 11]\n"
     ]
    }
   ],
   "source": [
    "print(coefficents_matrix)"
   ],
   "metadata": {
    "collapsed": false
   }
  },
  {
   "cell_type": "code",
   "execution_count": 93,
   "outputs": [],
   "source": [
    "def get_right_side_vector(n: int) -> vector:\n",
    "    from sage.misc.prandom import randrange\n",
    "    return vector([randrange(100) for _ in range(n)])"
   ],
   "metadata": {
    "collapsed": false
   }
  },
  {
   "cell_type": "code",
   "execution_count": 94,
   "outputs": [],
   "source": [
    "right_side = get_right_side_vector(size)"
   ],
   "metadata": {
    "collapsed": false
   }
  },
  {
   "cell_type": "code",
   "execution_count": 95,
   "outputs": [
    {
     "name": "stdout",
     "output_type": "stream",
     "text": [
      "(46, 82, 91, 76, 60, 24, 1, 99, 60, 46)\n"
     ]
    }
   ],
   "source": [
    "print(right_side)"
   ],
   "metadata": {
    "collapsed": false
   }
  },
  {
   "cell_type": "code",
   "execution_count": 96,
   "outputs": [],
   "source": [
    "u_s = vector([var(f'u{i}') for i in range(size)])"
   ],
   "metadata": {
    "collapsed": false
   }
  },
  {
   "cell_type": "code",
   "execution_count": 97,
   "outputs": [
    {
     "name": "stdout",
     "output_type": "stream",
     "text": [
      "(u0, u1, u2, u3, u4, u5, u6, u7, u8, u9)\n"
     ]
    }
   ],
   "source": [
    "print(u_s)"
   ],
   "metadata": {
    "collapsed": false
   }
  },
  {
   "cell_type": "code",
   "execution_count": 98,
   "outputs": [],
   "source": [
    "equations = []\n",
    "for i in range(size):\n",
    "    if i == 0:\n",
    "        equations.append(u_s[i]*coefficents_matrix[i][i]+u_s[i+1]*coefficents_matrix[i][i+1] == right_side[i])\n",
    "    elif i == size-1:\n",
    "        equations.append(u_s[i]*coefficents_matrix[i][i]+u_s[i-1]*coefficents_matrix[i][i-1] == right_side[i])\n",
    "    else:\n",
    "        equations.append(u_s[i-1]*coefficents_matrix[i][i-1]+u_s[i]*coefficents_matrix[i][i]+u_s[i+1]*coefficents_matrix[i][i+1] == right_side[i])"
   ],
   "metadata": {
    "collapsed": false
   }
  },
  {
   "cell_type": "code",
   "execution_count": 99,
   "outputs": [
    {
     "name": "stdout",
     "output_type": "stream",
     "text": [
      "[85*u0 + 65*u1 == 46, 35*u0 + 37*u1 + 27*u2 == 82, 52*u1 + 75*u2 + 57*u3 == 91, 20*u2 + 21*u3 + 17*u4 == 76, 40*u3 + 61*u4 + 47*u5 == 60, 37*u4 + 21*u5 + 72*u6 == 24, 80*u5 + 62*u6 + 78*u7 == 1, 68*u6 + 25*u7 + 44*u8 == 99, 6*u7 + 50*u8 + 14*u9 == 60, 62*u8 + 11*u9 == 46]\n"
     ]
    }
   ],
   "source": [
    "print(equations)"
   ],
   "metadata": {
    "collapsed": false
   }
  },
  {
   "cell_type": "code",
   "execution_count": 100,
   "outputs": [
    {
     "name": "stdout",
     "output_type": "stream",
     "text": [
      "Коэффиценты прогонки\n",
      "[                         0                          0]\n",
      "[                    -13/17                      46/85]\n",
      "[                   -153/58                     536/87]\n",
      "[                   551/601                 19955/5409]\n",
      "[              -10217/23641               11984/212769]\n",
      "[          -1111127/1033421           12286780/9300789]\n",
      "[          37203156/9704929         115695962/87344361]\n",
      "[     -378492231/1788979039    -9168332599/32201622702]\n",
      "[    -7155916156/1726091297 1905703632115/170883038403]\n",
      "[  -12082639079/21684533957 -196873248085/715589620581]\n",
      "Уравнение 10 после подстновки: -510593749371/21684533957*u9 - 12206141381270/715589620581 == 46\n",
      "Решение: u9 = -45123263927996/16849593729243\n",
      "\n",
      "Уравнение 9 после подстновки: 43369067914/1726091297*u8 + 77787681927835488162542/2643994281275646972561 == 60\n",
      "Решение: u8 = 1864277440987/1531781248113\n",
      "\n",
      "Уравнение 8 после подстновки: 18987004267/1788979039*u7 + 93692086056501191566430/2740324545207415303407 == 99\n",
      "Решение: u7 = 102891454367279/16849593729243\n",
      "\n",
      "Уравнение 7 после подстновки: 3577958078/9704929*u6 + 10579499833612655695202/18169345646794282083 == 1\n",
      "Решение: u6 = -5903551834721/3744354162054\n",
      "\n",
      "Уравнение 6 после подстновки: -19409858/1033421*u5 - 375188268624310020688/5804241333756010101 == 24\n",
      "Решение: u5 = -26506637020964/5616531243081\n",
      "\n",
      "Уравнение 5 после подстновки: 1033421/23641*u4 - 9717697046001877396/44260138372559307 == 60\n",
      "Решение: u4 = 11973150679496/1872177081027\n",
      "\n",
      "Уравнение 4 после подстновки: 23641/601*u3 + 616050999156523796/3375535277091681 == 76\n",
      "Решение: u3 = -15207068994440/5616531243081\n",
      "\n",
      "Уравнение 3 после подстновки: -1803/29*u2 + 3004892728286136/18097711783261 == 91\n",
      "Решение: u2 = 2259568978385/1872177081027\n",
      "\n",
      "Уравнение 2 после подстновки: 174/17*u1 + 546661060389803/10609003459153 == 82\n",
      "Решение: u1 = 11147490457267/3744354162054\n",
      "\n",
      "Уравнение 1 после подстновки: 85*u0 + 724586879722355/3744354162054 == 46\n",
      "Решение: u0 = -32490975780463/18721770810270\n",
      "\n",
      "[-1.73546488255479, 2.97714638487935, 1.20692054255118, -2.70755531061517, 6.39530886305264, -4.71939634514052, -1.57665423173607, 6.10646499972920, 1.21706506283688, -2.67800308144422]\n"
     ]
    }
   ],
   "source": [
    "tma_coefficents = [[0, 0 ] for i in range(size)]\n",
    "tma_coefficents[1][0] = -coefficents_matrix[0][1]/coefficents_matrix[0][0]\n",
    "tma_coefficents[1][1] = right_side[0]/coefficents_matrix[0][0]\n",
    "for i in range(2, size):\n",
    "    tma_coefficents[i][0] = -coefficents_matrix[i-1][i]/(coefficents_matrix[i-1][i-2]*tma_coefficents[i-1][0]+coefficents_matrix[i-1][i-1])\n",
    "    tma_coefficents[i][1] = (right_side[i-1]-coefficents_matrix[i-1][i-2]*tma_coefficents[i-1][1])/(coefficents_matrix[i-1][i-2]*tma_coefficents[i-1][0]+coefficents_matrix[i-1][i-1])\n",
    "tma_coefficents = Matrix(tma_coefficents)\n",
    "print(\"Коэффиценты прогонки\")\n",
    "print(tma_coefficents)\n",
    "solutions = [0 for i in range(size)]\n",
    "for i in range(size-1, -1, -1):\n",
    "    after_substitution = None\n",
    "    if i == 9:\n",
    "        after_substitution = equations[i].substitute({\n",
    "            u_s[i-1]: tma_coefficents[i][0]*u_s[i]+tma_coefficents[i][1]\n",
    "        })\n",
    "    elif i == 0:\n",
    "        after_substitution = equations[i].substitute({\n",
    "            u_s[i+1]: solutions[i+1]\n",
    "        })\n",
    "    else:\n",
    "        after_substitution = equations[i].substitute({\n",
    "            u_s[i-1]: tma_coefficents[i][0]*u_s[i]+tma_coefficents[i][1],\n",
    "            u_s[i+1]: solutions[i+1]\n",
    "        })\n",
    "    print(f\"Уравнение {i+1} после подстновки: {after_substitution}\")\n",
    "    solution = after_substitution.solve(u_s[i], solution_dict=True)\n",
    "    print(f\"Решение: {u_s[i]} = {solution[0][u_s[i]]}\")\n",
    "    print()\n",
    "    solutions[i] = solution[0][u_s[i]]\n",
    "\n",
    "print(list(map(RR, solutions)))"
   ],
   "metadata": {
    "collapsed": false
   }
  },
  {
   "cell_type": "code",
   "execution_count": 101,
   "outputs": [
    {
     "name": "stdout",
     "output_type": "stream",
     "text": [
      "[-1.73546488255479, 2.97714638487935, 1.20692054255118, -2.70755531061517, 6.39530886305264, -4.71939634514052, -1.57665423173607, 6.10646499972920, 1.21706506283688, -2.67800308144422]\n"
     ]
    }
   ],
   "source": [
    "etalonsolution = coefficents_matrix.solve_right(right_side)\n",
    "print(list(map(RR, etalonsolution)))"
   ],
   "metadata": {
    "collapsed": false
   }
  },
  {
   "cell_type": "code",
   "execution_count": 102,
   "outputs": [
    {
     "name": "stdout",
     "output_type": "stream",
     "text": [
      "\u001B[0;32mПогрешность для u0: 0.000000000000000\u001B[0m\n",
      "\u001B[0;32mПогрешность для u1: 0.000000000000000\u001B[0m\n",
      "\u001B[0;32mПогрешность для u2: 0.000000000000000\u001B[0m\n",
      "\u001B[0;32mПогрешность для u3: 0.000000000000000\u001B[0m\n",
      "\u001B[0;32mПогрешность для u4: 0.000000000000000\u001B[0m\n",
      "\u001B[0;32mПогрешность для u5: 0.000000000000000\u001B[0m\n",
      "\u001B[0;32mПогрешность для u6: 0.000000000000000\u001B[0m\n",
      "\u001B[0;32mПогрешность для u7: 0.000000000000000\u001B[0m\n",
      "\u001B[0;32mПогрешность для u8: 0.000000000000000\u001B[0m\n",
      "\u001B[0;32mПогрешность для u9: 0.000000000000000\u001B[0m\n"
     ]
    }
   ],
   "source": [
    "for i in range(size):\n",
    "    if abs(solutions[i]-etalonsolution[i]) < 1e-10:\n",
    "        print(f\"\\033[0;32mПогрешность для {u_s[i]}: {RR(abs(solutions[i]-etalonsolution[i]))}\\033[0m\")\n",
    "    else:\n",
    "        print(f\"\\033[0;31mПогрешность для {u_s[i]}: {RR(abs(solutions[i]-etalonsolution[i]))}\\033[0m\")"
   ],
   "metadata": {
    "collapsed": false
   }
  },
  {
   "cell_type": "code",
   "execution_count": null,
   "outputs": [],
   "source": [],
   "metadata": {
    "collapsed": false
   }
  }
 ],
 "metadata": {
  "kernelspec": {
   "display_name": "SageMath 9.7",
   "language": "sage",
   "name": "sagemath"
  },
  "language_info": {
   "codemirror_mode": {
    "name": "ipython",
    "version": 3
   },
   "file_extension": ".py",
   "mimetype": "text/x-python",
   "name": "python",
   "nbconvert_exporter": "python",
   "pygments_lexer": "ipython3",
   "version": "3.10.8"
  }
 },
 "nbformat": 4,
 "nbformat_minor": 1
}
