{
 "cells": [
  {
   "cell_type": "code",
   "execution_count": 81,
   "metadata": {},
   "outputs": [],
   "source": [
    "def generate_3diagonal_matrix(n: int) -> Matrix:\n",
    "     from sage.misc.prandom import randrange\n",
    "     rows = [[0 for _ in range(n)] for _ in range(n)]\n",
    "     for i in range(n):\n",
    "         if i != 0:\n",
    "             rows[i][i-1] = randrange(100)\n",
    "         rows[i][i] = randrange(100)\n",
    "         if i != n-1:\n",
    "             rows[i][i+1] = randrange(100)\n",
    "     return Matrix(rows)"
   ]
  },
  {
   "cell_type": "code",
   "execution_count": 82,
   "outputs": [],
   "source": [
    "size = int(input(\"Введите размерность матрицы: \"))\n",
    "coefficents_matrix = generate_3diagonal_matrix(size)"
   ],
   "metadata": {
    "collapsed": false
   }
  },
  {
   "cell_type": "code",
   "execution_count": 83,
   "outputs": [
    {
     "name": "stdout",
     "output_type": "stream",
     "text": [
      "[19 39  0  0  0  0  0  0  0  0]\n",
      "[65  1 45  0  0  0  0  0  0  0]\n",
      "[ 0 46 21 13  0  0  0  0  0  0]\n",
      "[ 0  0 90 24 40  0  0  0  0  0]\n",
      "[ 0  0  0 24 21 47  0  0  0  0]\n",
      "[ 0  0  0  0 91 13 26  0  0  0]\n",
      "[ 0  0  0  0  0  0 18 39  0  0]\n",
      "[ 0  0  0  0  0  0 38 13 85  0]\n",
      "[ 0  0  0  0  0  0  0 65 19 70]\n",
      "[ 0  0  0  0  0  0  0  0 60 35]\n"
     ]
    }
   ],
   "source": [
    "print(coefficents_matrix)"
   ],
   "metadata": {
    "collapsed": false
   }
  },
  {
   "cell_type": "code",
   "execution_count": 84,
   "outputs": [],
   "source": [
    "def get_right_side_vector(n: int) -> vector:\n",
    "    from sage.misc.prandom import randrange\n",
    "    return vector([randrange(100) for _ in range(n)])"
   ],
   "metadata": {
    "collapsed": false
   }
  },
  {
   "cell_type": "code",
   "execution_count": 85,
   "outputs": [],
   "source": [
    "right_side = get_right_side_vector(size)"
   ],
   "metadata": {
    "collapsed": false
   }
  },
  {
   "cell_type": "code",
   "execution_count": 86,
   "outputs": [
    {
     "name": "stdout",
     "output_type": "stream",
     "text": [
      "(28, 47, 66, 65, 77, 64, 95, 51, 35, 76)\n"
     ]
    }
   ],
   "source": [
    "print(right_side)"
   ],
   "metadata": {
    "collapsed": false
   }
  },
  {
   "cell_type": "code",
   "execution_count": 87,
   "outputs": [],
   "source": [
    "u_s = vector([var(f'u{i}') for i in range(size)])"
   ],
   "metadata": {
    "collapsed": false
   }
  },
  {
   "cell_type": "code",
   "execution_count": 88,
   "outputs": [
    {
     "name": "stdout",
     "output_type": "stream",
     "text": [
      "(u0, u1, u2, u3, u4, u5, u6, u7, u8, u9)\n"
     ]
    }
   ],
   "source": [
    "print(u_s)"
   ],
   "metadata": {
    "collapsed": false
   }
  },
  {
   "cell_type": "code",
   "execution_count": 89,
   "outputs": [],
   "source": [
    "equations = []\n",
    "for i in range(size):\n",
    "    if i == 0:\n",
    "        equations.append(u_s[i]*coefficents_matrix[i][i]+u_s[i+1]*coefficents_matrix[i][i+1] == right_side[i])\n",
    "    elif i == size-1:\n",
    "        equations.append(u_s[i]*coefficents_matrix[i][i]+u_s[i-1]*coefficents_matrix[i][i-1] == right_side[i])\n",
    "    else:\n",
    "        equations.append(u_s[i-1]*coefficents_matrix[i][i-1]+u_s[i]*coefficents_matrix[i][i]+u_s[i+1]*coefficents_matrix[i][i+1] == right_side[i])"
   ],
   "metadata": {
    "collapsed": false
   }
  },
  {
   "cell_type": "code",
   "execution_count": 90,
   "outputs": [
    {
     "name": "stdout",
     "output_type": "stream",
     "text": [
      "[19*u0 + 39*u1 == 28, 65*u0 + u1 + 45*u2 == 47, 46*u1 + 21*u2 + 13*u3 == 66, 90*u2 + 24*u3 + 40*u4 == 65, 24*u3 + 21*u4 + 47*u5 == 77, 91*u4 + 13*u5 + 26*u6 == 64, 18*u6 + 39*u7 == 95, 38*u6 + 13*u7 + 85*u8 == 51, 65*u7 + 19*u8 + 70*u9 == 35, 60*u8 + 35*u9 == 76]\n"
     ]
    }
   ],
   "source": [
    "print(equations)"
   ],
   "metadata": {
    "collapsed": false
   }
  },
  {
   "cell_type": "code",
   "execution_count": 91,
   "outputs": [
    {
     "name": "stdout",
     "output_type": "stream",
     "text": [
      "\u001B[1;33mНайдено u0: -39/19*u1 + 28/19\u001B[0m\n",
      "Подстановка в следующее уравнение: -2516/19*u1 + 45*u2 + 1820/19 == 47\n",
      "\u001B[1;33mНайдено u1: 855/2516*u2 + 927/2516\u001B[0m\n",
      "Подстановка в следующее уравнение: 46083/1258*u2 + 13*u3 + 21321/1258 == 66\n",
      "\u001B[1;33mНайдено u2: -16354/46083*u3 + 20569/15361\u001B[0m\n",
      "Подстановка в следующее уравнение: -121956/15361*u3 + 40*u4 + 1851210/15361 == 65\n",
      "\u001B[1;33mНайдено u3: 153610/30489*u4 + 852745/121956\u001B[0m\n",
      "Подстановка в следующее уравнение: 1442303/10163*u4 + 47*u5 + 1705490/10163 == 77\n",
      "\u001B[1;33mНайдено u4: -477661/1442303*u5 - 922939/1442303\u001B[0m\n",
      "Подстановка в следующее уравнение: -24717212/1442303*u5 + 26*u6 - 83987449/1442303 == 64\n",
      "\u001B[1;33mНайдено u5: 1442303/950662*u6 - 176294841/24717212\u001B[0m\n",
      "Подстановка в следующее уравнение: 18*u6 + 39*u7 == 95\n",
      "\u001B[1;33mНайдено u6: -13/6*u7 + 95/18\u001B[0m\n",
      "Подстановка в следующее уравнение: -208/3*u7 + 85*u8 + 1805/9 == 51\n",
      "\u001B[1;33mНайдено u7: 255/208*u8 + 673/312\u001B[0m\n",
      "Подстановка в следующее уравнение: 1579/16*u8 + 70*u9 + 3365/24 == 35\n",
      "\u001B[1;33mНайдено u8: -1120/1579*u9 - 5050/4737\u001B[0m\n",
      "Подстановка в следующее уравнение: -11935/1579*u9 - 101000/1579 == 76\n",
      "\u001B[0;32mНайдено u9: -31572/1705\u001B[0m\n",
      "Начинаем обратную подстановку\n",
      "\u001B[0;32mНайдено u8: 12346/1023\u001B[0m\n",
      "\u001B[0;32mНайдено u7: 225451/13299\u001B[0m\n",
      "\u001B[0;32mНайдено u6: -32176/1023\u001B[0m\n",
      "\u001B[0;32mНайдено u5: -1386945696871/25285707876\u001B[0m\n",
      "\u001B[0;32mНайдено u4: 443147315489/25285707876\u001B[0m\n",
      "\u001B[0;32mНайдено u3: 7228419204265/75857123628\u001B[0m\n",
      "\u001B[0;32mНайдено u2: -284267981699/8752745034\u001B[0m\n",
      "\u001B[0;32mНайдено u1: -41500676507/3890108904\u001B[0m\n",
      "\u001B[0;32mНайдено u0: 30306130405/1296702968\u001B[0m\n",
      "[30306130405/1296702968, -41500676507/3890108904, -284267981699/8752745034, 7228419204265/75857123628, 443147315489/25285707876, -1386945696871/25285707876, -32176/1023, 225451/13299, 12346/1023, -31572/1705]\n"
     ]
    }
   ],
   "source": [
    "vals = [0 for _ in range(size)]\n",
    "for i in range(size):\n",
    "    solution = solve(equations[i], u_s[i], solution_dict=True)\n",
    "    if i != size-1:\n",
    "        equations[i+1] = equations[i+1].substitute(solution[0])\n",
    "        print(f\"\\033[1;33mНайдено {u_s[i]}: {solution[0][u_s[i]]}\\033[0m\")\n",
    "        print(f\"Подстановка в следующее уравнение: {equations[i+1]}\")\n",
    "    if i == size-1:\n",
    "        print(f\"\\033[0;32mНайдено {u_s[i]}: {solution[0][u_s[i]]}\\033[0m\")\n",
    "        vals[i] = solution[0][u_s[i]]\n",
    "print(\"Начинаем обратную подстановку\")\n",
    "for i in range(size-2, -1, -1):\n",
    "    solution = solve(equations[i].substitute({u_s[i+1]:vals[i+1]}), u_s[i], solution_dict=True)[0]\n",
    "    print(f\"\\033[0;32mНайдено {u_s[i]}: {solution[u_s[i]]}\\033[0m\")\n",
    "    vals[i] = solution[u_s[i]]\n",
    "\n",
    "print(vals)\n"
   ],
   "metadata": {
    "collapsed": false
   }
  },
  {
   "cell_type": "code",
   "execution_count": 92,
   "outputs": [
    {
     "name": "stdout",
     "output_type": "stream",
     "text": [
      "(30306130405/1296702968, -41500676507/3890108904, -284267981699/8752745034, 7228419204265/75857123628, 443147315489/25285707876, -1386945696871/25285707876, -32176/1023, 225451/13299, 12346/1023, -31572/1705)\n"
     ]
    }
   ],
   "source": [
    "etalonsolution = coefficents_matrix.solve_right(right_side)\n",
    "print(etalonsolution)"
   ],
   "metadata": {
    "collapsed": false
   }
  },
  {
   "cell_type": "code",
   "execution_count": 93,
   "outputs": [
    {
     "name": "stdout",
     "output_type": "stream",
     "text": [
      "\u001B[0;32mПогрешность для u0: 0\u001B[0m\n",
      "\u001B[0;32mПогрешность для u1: 0\u001B[0m\n",
      "\u001B[0;32mПогрешность для u2: 0\u001B[0m\n",
      "\u001B[0;32mПогрешность для u3: 0\u001B[0m\n",
      "\u001B[0;32mПогрешность для u4: 0\u001B[0m\n",
      "\u001B[0;32mПогрешность для u5: 0\u001B[0m\n",
      "\u001B[0;32mПогрешность для u6: 0\u001B[0m\n",
      "\u001B[0;32mПогрешность для u7: 0\u001B[0m\n",
      "\u001B[0;32mПогрешность для u8: 0\u001B[0m\n",
      "\u001B[0;32mПогрешность для u9: 0\u001B[0m\n"
     ]
    }
   ],
   "source": [
    "for i in range(size):\n",
    "    if abs(RR(vals[i])-etalonsolution[i]) < 1e-10:\n",
    "        print(f\"\\033[0;32mПогрешность для {u_s[i]}: {abs(vals[i]-etalonsolution[i])}\\033[0m\")\n",
    "    else:\n",
    "        print(f\"\\033[0;31mПогрешность для {u_s[i]}: {abs(vals[i]-etalonsolution[i])}\\033[0m\")"
   ],
   "metadata": {
    "collapsed": false
   }
  },
  {
   "cell_type": "code",
   "execution_count": null,
   "outputs": [],
   "source": [],
   "metadata": {
    "collapsed": false
   }
  }
 ],
 "metadata": {
  "kernelspec": {
   "display_name": "SageMath 9.7",
   "language": "sage",
   "name": "sagemath"
  },
  "language_info": {
   "codemirror_mode": {
    "name": "ipython",
    "version": 3
   },
   "file_extension": ".py",
   "mimetype": "text/x-python",
   "name": "python",
   "nbconvert_exporter": "python",
   "pygments_lexer": "ipython3",
   "version": "3.10.8"
  }
 },
 "nbformat": 4,
 "nbformat_minor": 1
}
