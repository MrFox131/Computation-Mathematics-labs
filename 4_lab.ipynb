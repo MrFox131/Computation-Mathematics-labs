{
 "cells": [
  {
   "cell_type": "code",
   "execution_count": 6,
   "metadata": {},
   "outputs": [],
   "source": [
    "import datetime\n",
    "\n",
    "\n",
    "def get_by_newton_cortes_5(left_border, right_border, func):\n",
    "    step = (right_border-left_border)/5\n",
    "    c = [19/288, 75/288, 50/288, 50/288, 75/288, 19/288]\n",
    "    values = [func(x = left_border + step * i)*c[i] for i in range(6)]\n",
    "    return (right_border-left_border)*sum(values)"
   ]
  },
  {
   "cell_type": "code",
   "execution_count": 7,
   "metadata": {},
   "outputs": [],
   "source": [
    "x = var('x')\n",
    "y = 4*x-cos(x)"
   ]
  },
  {
   "cell_type": "code",
   "execution_count": 10,
   "metadata": {},
   "outputs": [
    {
     "name": "stdout",
     "output_type": "stream",
     "text": [
      "\u001B[1;33mПройдено 1 итераций за 0:00:00.001821s\u001B[0m\n",
      "Погрешность: 3.3088781714596394e-11 \u001B[0m\n",
      "\u001B[1;33mПройдено 2 итераций за 0:00:00.021663s\u001B[0m\n",
      "Погрешность: 5.162814620263134e-13 \u001B[0m\n",
      "\u001B[1;33mПройдено 3 итераций за 0:00:00.032389s\u001B[0m\n",
      "Погрешность: 8.104628079763643e-15 \u001B[0m\n",
      "\u001B[1;33mПройдено 4 итераций за 0:00:00.046536s\u001B[0m\n",
      "Погрешность: 1.6653345369377348e-16 \u001B[0m\n",
      "Значение получено: 0.235190943251793\n",
      "Итерация: 5\n",
      "Погрешность: 5.551115123125783e-17\n",
      "Требуемая: 1e-15\n"
     ]
    }
   ],
   "source": [
    "from sage.symbolic.integration.integral import definite_integral\n",
    "epsilon = float(input(\"Введиите точность: \"))\n",
    "segments = [(0.1, 0.6)]\n",
    "iterations_counter = 0\n",
    "segments_value = sum([get_by_newton_cortes_5(segment[0], segment[1], y) for segment in segments])\n",
    "current_time = datetime.datetime.now()\n",
    "while True:\n",
    "    iterations_counter += 1\n",
    "    double_segments = []\n",
    "    for segment in segments:\n",
    "        double_segments.append((segment[0], (segment[0]+segment[1])/2))\n",
    "        double_segments.append(((segment[0]+segment[1])/2, segment[1]))\n",
    "    double_segemnts_value = sum([get_by_newton_cortes_5(segment[0], segment[1], y) for segment in double_segments])\n",
    "    if abs(double_segemnts_value-segments_value) < epsilon:\n",
    "        print(\"Значение получено:\", double_segemnts_value)\n",
    "        print(\"Итерация:\", iterations_counter)\n",
    "        print(\"Погрешность:\", abs(definite_integral(y, x, 0.1, 0.6) - double_segemnts_value))\n",
    "        print(\"Требуемая:\", epsilon)\n",
    "        break\n",
    "    elif iterations_counter == 20:\n",
    "        print(f\"\\033[1;33mПройдено {iterations_counter} итераций за {datetime.datetime.now()-current_time}s\\033[0m\")\n",
    "        print(\"\\033[0;31mВНИМАНИЕ, ПРЕВЫШЕНО КОЛИЕЧТСВО ИТЕРАЦИЙ, АВАРИЙНАЯ ОСТАНОВКА РЕАКТОРОВ\\033[0m\")\n",
    "        print(\"Значение получено:\", double_segemnts_value)\n",
    "        print(\"Итерация:\", iterations_counter)\n",
    "        print(\"Погрешность:\", abs(definite_integral(y, x, 0.1, 0.6) - double_segemnts_value))\n",
    "        print(\"Требуемая:\", epsilon)\n",
    "        break\n",
    "    else:\n",
    "        print(f\"\\033[1;33mПройдено {iterations_counter} итераций за {datetime.datetime.now()-current_time}s\\033[0m\")\n",
    "        print(\"Погрешность:\", abs(definite_integral(y, x, 0.1, 0.6) - double_segemnts_value), \"\\033[0m\")\n",
    "        segments_value = double_segemnts_value\n",
    "        segments = double_segments\n",
    "             "
   ]
  },
  {
   "cell_type": "code",
   "execution_count": 4,
   "metadata": {},
   "outputs": [
    {
     "name": "stdout",
     "output_type": "stream",
     "text": [
      "Эталонное решение: 0.23519094325179274\n"
     ]
    }
   ],
   "source": [
    "print(\"Эталонное решение:\", definite_integral(y, x, 0.1, 0.6))"
   ]
  },
  {
   "cell_type": "code",
   "execution_count": null,
   "metadata": {},
   "outputs": [],
   "source": []
  }
 ],
 "metadata": {
  "kernelspec": {
   "display_name": "SageMath 9.7",
   "language": "sage",
   "name": "sagemath"
  },
  "language_info": {
   "codemirror_mode": {
    "name": "ipython",
    "version": 3
   },
   "file_extension": ".py",
   "mimetype": "text/x-python",
   "name": "python",
   "nbconvert_exporter": "python",
   "pygments_lexer": "ipython3",
   "version": "3.10.8"
  }
 },
 "nbformat": 4,
 "nbformat_minor": 1
}
