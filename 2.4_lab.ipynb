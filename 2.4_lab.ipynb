{
 "cells": [
  {
   "cell_type": "code",
   "execution_count": 51,
   "outputs": [],
   "source": [
    "import math\n",
    "\n",
    "size = int(input(\"Введите желаемую размерность матрицы\"))"
   ],
   "metadata": {
    "collapsed": false
   }
  },
  {
   "cell_type": "code",
   "execution_count": 52,
   "outputs": [],
   "source": [
    "def get_random_matrix(size: int, max_value: int, min_value: int) -> Matrix:\n",
    "    return Matrix(SR, [[math.floor(random()*(max_value-min_value)+min_value) for i in range(size)] for _ in range(size)])\n",
    "def get_random_rightside(size: int, max_value: int, min_value: int) -> vector:\n",
    "    return vector([math.floor(random()*(max_value-min_value)+min_value) for i in range(size)])"
   ],
   "metadata": {
    "collapsed": false
   }
  },
  {
   "cell_type": "code",
   "execution_count": 53,
   "outputs": [
    {
     "name": "stdout",
     "output_type": "stream",
     "text": [
      "[-39  -2 -32  29  -5  -3 -34]\n",
      "[-24  21 -25 -33 -14 -10 -43]\n",
      "[-28 -42 -27  17 -44 -15 -19]\n",
      "[ 46  47 -11  18 -11   2   1]\n",
      "[ 32  48  33   4  22 -40  -1]\n",
      "[ 16  28 -23  27 -41  17  24]\n",
      "[  7 -47   7  16   9  39 -11]\n",
      "(32, 15, 44, -30, 7, 0, 41)\n"
     ]
    }
   ],
   "source": [
    "A = get_random_matrix(size, -50, 50)\n",
    "print(A)\n",
    "RS = get_random_rightside(size, -50, 50)\n",
    "print(RS)\n",
    "\n",
    "A = Matrix(QQ, [[0.411, 0.421, -0.333, 0.313, -0.141, -0.381, 0.245], [0.241, 0.705, 0.139, -0.409, 0.321, 0.0625, 0.101],\n",
    "                [0.123, -0.239, 0.502, 0.901, 0.243, 0.819, 0.321], [0.413, 0.309, 0.801, 0.865, 0.423, 0.118, 0.183],\n",
    "                [0.241, -0.221, -0.243, 0.134, 1.274, 0.712, 0.423], [0.281, 0.525, 0.719, 0.118, -0.974, 0.808, 0.923],\n",
    "                [0.246, -0.301, 0.231, 0.813, -0.702, 1.223, 1.105]])\n",
    "RS = vector([0.096, 1.252, 1.024, 1.023, 1.155, 1.937, 1.673])"
   ],
   "metadata": {
    "collapsed": false
   }
  },
  {
   "cell_type": "code",
   "execution_count": 54,
   "outputs": [],
   "source": [
    "L = Matrix(SR, [[0 for i in range(size)] for _ in range(size)])\n",
    "U = Matrix(SR, [[0 for i in range(size)] for _ in range(size)])"
   ],
   "metadata": {
    "collapsed": false
   }
  },
  {
   "cell_type": "code",
   "execution_count": 55,
   "outputs": [],
   "source": [
    "for j in range(size):\n",
    "    U[0, j] = A[0, j]\n",
    "    if j == 0:\n",
    "        continue\n",
    "    L[j, 0] = A[j, 0]/U[0, 0]\n",
    "for i in range(size):\n",
    "    L[i,i] = 1"
   ],
   "metadata": {
    "collapsed": false
   }
  },
  {
   "cell_type": "code",
   "execution_count": 56,
   "outputs": [],
   "source": [
    "for i in range(1, size):\n",
    "    for j in range(i, size):\n",
    "        U[i, j] = A[i, j] - sum([L[i, k]*U[k, j] for k in range(i)])\n",
    "        if j == i:\n",
    "            continue\n",
    "        L[j, i] = 1/U[i,i]*(A[j, i]- sum([L[j, k]*U[k, i] for k in range(i)]))\n"
   ],
   "metadata": {
    "collapsed": false
   }
  },
  {
   "cell_type": "code",
   "execution_count": 57,
   "outputs": [
    {
     "data": {
      "text/plain": "[                                    1                                     0                                     0                                     0                                     0                                     0                                     0]\n[                              241/411                                     1                                     0                                     0                                     0                                     0                                     0]\n[                               41/137                          -75006/94147                                     1                                     0                                     0                                     0                                     0]\n[                              413/411                          -23437/94147                    114749374/81715909                                     1                                     0                                     0                                     0]\n[                              241/411                          -96146/94147                     27643712/81715909                62763328657/5541901578                                     1                                     0                                     0]\n[                              281/411                           48737/94147                     72835320/81715909                     88865237/68418538              -35525700687/94433565958                                     1                                     0]\n[                               82/137                        -227277/188294                     78497880/81715909                33635168639/5541901578              43230362159/377734263832 229906233930044435/248109204079830892                                     1]"
     },
     "execution_count": 57,
     "metadata": {},
     "output_type": "execute_result"
    }
   ],
   "source": [
    "L"
   ],
   "metadata": {
    "collapsed": false
   }
  },
  {
   "cell_type": "code",
   "execution_count": 58,
   "outputs": [
    {
     "data": {
      "text/plain": "[                               411/1000                                421/1000                               -333/1000                                313/1000                               -141/1000                               -381/1000                                  49/200]\n[                                      0                            94147/205500                             22897/68500                           -60883/102750                              6913/17125                            78339/274000                            -8767/205500]\n[                                      0                                       0                       81715909/94147000                        7890963/23536750                           230358/379625                       21857217/18829400                        2514791/11768375]\n[                                      0                                       0                                       0                 -2770950789/40857954500                 -7637376303/40857954500              -172915127969/163431818000                  -3055251401/8171590900]\n[                                      0                                       0                                       0                                       0                 47216782979/12828475875          142062126046973/11083803156000            12186193580821/2770950789000]\n[                                      0                                       0                                       0                                       0                                       0     62027301019957723/10198825123464000       6953534490885083/2549706280866000]\n[                                      0                                       0                                       0                                       0                                       0                                       0 -184909345291430099/3101365050997886150]"
     },
     "execution_count": 58,
     "metadata": {},
     "output_type": "execute_result"
    }
   ],
   "source": [
    "U"
   ],
   "metadata": {
    "collapsed": false
   }
  },
  {
   "cell_type": "code",
   "execution_count": 59,
   "outputs": [
    {
     "data": {
      "text/plain": "True"
     },
     "execution_count": 59,
     "metadata": {},
     "output_type": "execute_result"
    }
   ],
   "source": [
    "L*U==A"
   ],
   "metadata": {
    "collapsed": false
   }
  },
  {
   "cell_type": "code",
   "execution_count": 62,
   "outputs": [],
   "source": [
    "y = [0 for i in range(size)]\n",
    "\n",
    "y[0] = RS[0]\n",
    "\n",
    "for i in range(1, len(y)):\n",
    "    y[i] = RS[i] - sum([L[i, p]*y[p] for p in range(i)])"
   ],
   "metadata": {
    "collapsed": false
   }
  },
  {
   "cell_type": "code",
   "execution_count": 63,
   "outputs": [
    {
     "data": {
      "text/plain": "[0.0960000000000000,\n 1.19570802919708,\n 1.94787904022433,\n -1.51111159880752,\n 18.7745468428763,\n 8.54183987384727,\n 0.295104058015355]"
     },
     "execution_count": 63,
     "metadata": {},
     "output_type": "execute_result"
    }
   ],
   "source": [
    "y"
   ],
   "metadata": {
    "collapsed": false
   }
  },
  {
   "cell_type": "code",
   "execution_count": 64,
   "outputs": [],
   "source": [
    "x = [0 for i in range(size)]\n",
    "\n",
    "x[size-1] = y[size-1]/U[size-1, size-1]\n",
    "\n",
    "for i in range(size):\n",
    "    x[size-1-i] = 1/U[size-1-i, size-1-i]*(y[size-1-i] - sum([ U[size-1-i, size-1-p] * x[size-1-p] for p in range(i)]))\n",
    "    "
   ],
   "metadata": {
    "collapsed": false
   }
  },
  {
   "cell_type": "code",
   "execution_count": 65,
   "outputs": [
    {
     "data": {
      "text/plain": "[11.0919696281675,\n -2.51573632159537,\n 0.720986479267071,\n -2.54467446656966,\n -1.60482658447079,\n 3.62397365925177,\n -4.94958981383020]"
     },
     "execution_count": 65,
     "metadata": {},
     "output_type": "execute_result"
    }
   ],
   "source": [
    "x"
   ],
   "metadata": {
    "collapsed": false
   }
  },
  {
   "cell_type": "code",
   "execution_count": 66,
   "outputs": [
    {
     "name": "stdout",
     "output_type": "stream",
     "text": [
      "[7.28306304154103e-14, 3.10862446895044e-14, 5.77315972805081e-15, 2.08721928629529e-14, 9.54791801177635e-15, 1.82076576038526e-14, 3.73034936274053e-14]\n"
     ]
    }
   ],
   "source": [
    "etalon = [11.0919696281674, -2.51573632159534, 0.720986479267065, -2.54467446656964, -1.60482658447078, 3.62397365925175, -4.94958981383016]\n",
    "zipped = list(zip(x, etalon))\n",
    "print(list(map(lambda x: abs(x[0]-x[1]), zipped)))"
   ],
   "metadata": {
    "collapsed": false
   }
  },
  {
   "cell_type": "code",
   "execution_count": 67,
   "outputs": [
    {
     "data": {
      "text/plain": "(0.0960000000000001, 1.25200000000000, 1.02400000000000, 1.02300000000000, 1.15500000000000, 1.93700000000000, 1.67300000000000)"
     },
     "execution_count": 67,
     "metadata": {},
     "output_type": "execute_result"
    }
   ],
   "source": [
    "A*vector(SR, x)"
   ],
   "metadata": {
    "collapsed": false
   }
  },
  {
   "cell_type": "code",
   "execution_count": 68,
   "outputs": [
    {
     "data": {
      "text/plain": "(0.0960000000000000, 1.25200000000000, 1.02400000000000, 1.02300000000000, 1.15500000000000, 1.93700000000000, 1.67300000000000)"
     },
     "execution_count": 68,
     "metadata": {},
     "output_type": "execute_result"
    }
   ],
   "source": [
    "RS"
   ],
   "metadata": {
    "collapsed": false
   }
  },
  {
   "cell_type": "code",
   "execution_count": null,
   "outputs": [],
   "source": [],
   "metadata": {
    "collapsed": false
   }
  }
 ],
 "metadata": {
  "kernelspec": {
   "display_name": "SageMath 9.7",
   "language": "sage",
   "name": "sagemath"
  },
  "language_info": {
   "codemirror_mode": {
    "name": "ipython",
    "version": 3
   },
   "file_extension": ".py",
   "mimetype": "text/x-python",
   "name": "python",
   "nbconvert_exporter": "python",
   "pygments_lexer": "ipython3",
   "version": "3.10.8"
  }
 },
 "nbformat": 4,
 "nbformat_minor": 1
}
