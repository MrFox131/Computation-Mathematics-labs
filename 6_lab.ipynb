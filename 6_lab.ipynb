{
 "cells": [
  {
   "cell_type": "code",
   "execution_count": 22,
   "outputs": [
    {
     "data": {
      "image/png": "[encoded data removed]",
      "text/plain": "Graphics object consisting of 2 graphics primitives"
     },
     "metadata": {},
     "output_type": "display_data"
    }
   ],
   "source": [
    "class Grid:\n",
    "    def __init__(self, left_border, right_border, steps_count, function):\n",
    "        step = (right_border - left_border) / steps_count\n",
    "        self.x = [left_border + i * step for i in range(steps_count + 1)]\n",
    "        self.y = [function(x=x) for x in self.x]\n",
    "        self.h = step\n",
    "        self.mu = 1 / 2\n",
    "        self.lambda_ = self.mu\n",
    "        self.gamma = 1\n",
    "\n",
    "\n",
    "target_x = 0.37\n",
    "left_border = 0.1\n",
    "right_border = 0.6\n",
    "steps_count = 10\n",
    "\n",
    "x = var('x')\n",
    "y = 4 * x - cos(x)\n",
    "\n",
    "grid = Grid(left_border, right_border, steps_count, y)\n",
    "\n",
    "p = y.plot(xmin=left_border, xmax=right_border)\n",
    "p += point(zip(grid.x, grid.y), color='red', pointsize=20)\n",
    "p.show()"
   ],
   "metadata": {
    "collapsed": false
   }
  },
  {
   "cell_type": "code",
   "execution_count": 23,
   "outputs": [],
   "source": [
    "\n",
    "\n",
    "def get_3diagonal_matrix(grid: Grid) -> Matrix:\n",
    "    rows = []\n",
    "    rows.append([1 + grid.gamma, grid.gamma, *[0 for _ in range(len(grid.x) - 2)]])\n",
    "    for i in range(1, len(grid.x) - 1):\n",
    "        rows.append([*[0 for _ in range(i - 1)], grid.mu, 2, grid.lambda_, *[0 for _ in range(i + 2, len(grid.x))]])\n",
    "    rows.append([*[0 for _ in range(len(grid.x) - 2)], grid.gamma, 1 + grid.gamma])\n",
    "    return Matrix(rows)\n",
    "\n",
    "\n",
    "def get_right_side(grid: Grid) -> vector:\n",
    "    values = []\n",
    "    values.append(grid.lambda_ * (3 + 2 * grid.gamma) * (grid.y[2] - grid.y[1]) / grid.h + grid.mu * (\n",
    "            grid.y[1] - grid.y[0]) / grid.h)\n",
    "    for i in range(1, len(grid.x) - 1):\n",
    "        values.append(\n",
    "            3 * (grid.lambda_ * (grid.y[i + 1] - grid.y[i]) / grid.h + grid.mu * (grid.y[i] - grid.y[i - 1]) / grid.h))\n",
    "\n",
    "    values.append(\n",
    "        grid.mu * (3 + 2 * grid.gamma) * (grid.y[len(grid.y) - 2] - grid.y[len(grid.y) - 3]) / grid.h + grid.lambda_ * (\n",
    "                    grid.y[len(grid.y) - 1] - grid.y[len(grid.y) - 2]) / grid.h)\n",
    "    return vector(values)"
   ],
   "metadata": {
    "collapsed": false
   }
  },
  {
   "cell_type": "code",
   "execution_count": 24,
   "outputs": [],
   "source": [
    "\n",
    "coefficents_matrix = get_3diagonal_matrix(grid)"
   ],
   "metadata": {
    "collapsed": false
   }
  },
  {
   "cell_type": "code",
   "execution_count": 25,
   "outputs": [
    {
     "name": "stdout",
     "output_type": "stream",
     "text": [
      "[  2   1   0   0   0   0   0   0   0   0   0]\n",
      "[1/2   2 1/2   0   0   0   0   0   0   0   0]\n",
      "[  0 1/2   2 1/2   0   0   0   0   0   0   0]\n",
      "[  0   0 1/2   2 1/2   0   0   0   0   0   0]\n",
      "[  0   0   0 1/2   2 1/2   0   0   0   0   0]\n",
      "[  0   0   0   0 1/2   2 1/2   0   0   0   0]\n",
      "[  0   0   0   0   0 1/2   2 1/2   0   0   0]\n",
      "[  0   0   0   0   0   0 1/2   2 1/2   0   0]\n",
      "[  0   0   0   0   0   0   0 1/2   2 1/2   0]\n",
      "[  0   0   0   0   0   0   0   0 1/2   2 1/2]\n",
      "[  0   0   0   0   0   0   0   0   0   1   2]\n"
     ]
    }
   ],
   "source": [
    "print(coefficents_matrix)"
   ],
   "metadata": {
    "collapsed": false
   }
  },
  {
   "cell_type": "code",
   "execution_count": 26,
   "outputs": [],
   "source": [
    "right_side = get_right_side(grid)"
   ],
   "metadata": {
    "collapsed": false
   }
  },
  {
   "cell_type": "code",
   "execution_count": 27,
   "outputs": [
    {
     "name": "stdout",
     "output_type": "stream",
     "text": [
      "(12.4975558781599, 12.4481276231035, 12.5957596867619, 12.7419026614691, 12.8861912658980, 13.0282648536816, 13.1677683148411, 13.3043529633754, 13.4376774087951, 13.5674084094208, 13.5247910630416)\n"
     ]
    }
   ],
   "source": [
    "print(right_side)"
   ],
   "metadata": {
    "collapsed": false
   }
  },
  {
   "cell_type": "code",
   "execution_count": 28,
   "outputs": [],
   "source": [
    "u_s = vector([var(f'u{i}') for i in range(len(grid.x))])"
   ],
   "metadata": {
    "collapsed": false
   }
  },
  {
   "cell_type": "code",
   "execution_count": 29,
   "outputs": [
    {
     "name": "stdout",
     "output_type": "stream",
     "text": [
      "(u0, u1, u2, u3, u4, u5, u6, u7, u8, u9, u10)\n"
     ]
    }
   ],
   "source": [
    "print(u_s)"
   ],
   "metadata": {
    "collapsed": false
   }
  },
  {
   "cell_type": "code",
   "execution_count": 30,
   "outputs": [],
   "source": [
    "equations = []\n",
    "for i in range(len(grid.x)):\n",
    "    if i == 0:\n",
    "        equations.append(u_s[i] * coefficents_matrix[i][i] + u_s[i + 1] * coefficents_matrix[i][i + 1] == right_side[i])\n",
    "    elif i == len(grid.x) - 1:\n",
    "        equations.append(u_s[i] * coefficents_matrix[i][i] + u_s[i - 1] * coefficents_matrix[i][i - 1] == right_side[i])\n",
    "    else:\n",
    "        equations.append(u_s[i - 1] * coefficents_matrix[i][i - 1] + u_s[i] * coefficents_matrix[i][i] + u_s[i + 1] *\n",
    "                         coefficents_matrix[i][i + 1] == right_side[i])"
   ],
   "metadata": {
    "collapsed": false
   }
  },
  {
   "cell_type": "code",
   "execution_count": 31,
   "outputs": [
    {
     "name": "stdout",
     "output_type": "stream",
     "text": [
      "[2*u0 + u1 == 12.4975558781599, 1/2*u0 + 2*u1 + 1/2*u2 == 12.4481276231035, 1/2*u1 + 2*u2 + 1/2*u3 == 12.5957596867619, 1/2*u2 + 2*u3 + 1/2*u4 == 12.7419026614691, 1/2*u3 + 2*u4 + 1/2*u5 == 12.8861912658980, 1/2*u4 + 2*u5 + 1/2*u6 == 13.0282648536816, 1/2*u5 + 2*u6 + 1/2*u7 == 13.1677683148411, 1/2*u6 + 2*u7 + 1/2*u8 == 13.3043529633754, 1/2*u7 + 2*u8 + 1/2*u9 == 13.4376774087951, 1/2*u10 + 1/2*u8 + 2*u9 == 13.5674084094208, 2*u10 + u9 == 13.5247910630416]\n"
     ]
    }
   ],
   "source": [
    "print(equations)"
   ],
   "metadata": {
    "collapsed": false
   }
  },
  {
   "cell_type": "code",
   "execution_count": 32,
   "outputs": [
    {
     "name": "stdout",
     "output_type": "stream",
     "text": [
      "Коэффиценты прогонки\n",
      "[               0                0]\n",
      "[            -1/2 6.24877793907993]\n",
      "[            -2/7 5.32785065917918]\n",
      "[           -7/26 5.34791080770818]\n",
      "[          -26/97 5.39725007624721]\n",
      "[         -97/362 5.45963493974649]\n",
      "[       -362/1351 5.51893109243321]\n",
      "[      -1351/5042 5.57779335200780]\n",
      "[     -5042/18817 5.63521609193038]\n",
      "[    -18817/70226 5.69127802239544]\n",
      "[   -70226/262087 5.74577890364357]\n",
      "Уравнение 11 после подстновки: 453948/262087*u10 + 5.74577890364357 == 13.5247910630416\n",
      "Решение: u10 = 3588535827485/799012297523\n",
      "\n",
      "Уравнение 10 после подстновки: 262087/140452*u9 + 5.09124639334299 == 13.5674084094208\n",
      "Решение: u9 = 1194652302701/263002469891\n",
      "\n",
      "Уравнение 9 после подстновки: 35113/18817*u8 + 5.08878881319547 == 13.4376774087951\n",
      "Решение: u8 = 668970148107/149518738408\n",
      "\n",
      "Уравнение 8 после подстновки: 18817/10084*u7 + 5.02597463435834 == 13.3043529633754\n",
      "Решение: u7 = 706183999827/159180605068\n",
      "\n",
      "Уравнение 7 после подстновки: 2521/1351*u6 + 4.97765035436370 == 13.1677683148411\n",
      "Решение: u6 = 295255624384/67270633747\n",
      "\n",
      "Уравнение 6 после подстновки: 1351/724*u5 + 4.92435324230579 == 13.0282648536816\n",
      "Решение: u5 = 39977189088/9205223587\n",
      "\n",
      "Уравнение 5 после подстновки: 181/97*u4 + 4.87006545508737 == 12.8861912658980\n",
      "Решение: u4 = 1561125760/363396053\n",
      "\n",
      "Уравнение 4 после подстновки: 97/52*u3 + 4.82192281724809 == 12.7419026614691\n",
      "Решение: u3 = 6202580020/1460887221\n",
      "\n",
      "Уравнение 3 после подстновки: 13/7*u2 + 4.78680652494779 == 12.5957596867619\n",
      "Решение: u2 = 300932933/71568549\n",
      "\n",
      "Уравнение 2 после подстновки: 7/4*u1 + 5.22679943618223 == 12.4481276231035\n",
      "Решение: u1 = 15801112/3829205\n",
      "\n",
      "Уравнение 1 после подстновки: 2*u0 + 15801112/3829205 == 12.4975558781599\n",
      "Решение: u0 = 21731071/5191938\n",
      "\n",
      "[4.18554131424528, 4.12647324966932, 4.20482093328454, 4.24576239071640, 4.29593482678801, 4.34288083392754, 4.38907154486511, 4.43636961629419, 4.47415591670888, 4.54236153446056, 4.49121476429054]\n"
     ]
    }
   ],
   "source": [
    "tma_coefficents = [[0, 0] for i in range(len(grid.x))]\n",
    "tma_coefficents[1][0] = -coefficents_matrix[0][1] / coefficents_matrix[0][0]\n",
    "tma_coefficents[1][1] = right_side[0] / coefficents_matrix[0][0]\n",
    "for i in range(2, len(grid.x)):\n",
    "    tma_coefficents[i][0] = -coefficents_matrix[i - 1][i] / (\n",
    "            coefficents_matrix[i - 1][i - 2] * tma_coefficents[i - 1][0] + coefficents_matrix[i - 1][i - 1])\n",
    "    tma_coefficents[i][1] = (right_side[i - 1] - coefficents_matrix[i - 1][i - 2] * tma_coefficents[i - 1][1]) / (\n",
    "            coefficents_matrix[i - 1][i - 2] * tma_coefficents[i - 1][0] + coefficents_matrix[i - 1][i - 1])\n",
    "tma_coefficents = Matrix(tma_coefficents)\n",
    "print(\"Коэффиценты прогонки\")\n",
    "print(tma_coefficents)\n",
    "solutions = [0 for i in range(len(grid.x))]\n",
    "for i in range(len(grid.x) - 1, -1, -1):\n",
    "    after_substitution = None\n",
    "    if i == len(grid.x) - 1:\n",
    "        after_substitution = equations[i].substitute({\n",
    "            u_s[i - 1]: tma_coefficents[i][0] * u_s[i] + tma_coefficents[i][1]\n",
    "        })\n",
    "    elif i == 0:\n",
    "        after_substitution = equations[i].substitute({\n",
    "            u_s[i + 1]: solutions[i + 1]\n",
    "        })\n",
    "    else:\n",
    "        after_substitution = equations[i].substitute({\n",
    "            u_s[i - 1]: tma_coefficents[i][0] * u_s[i] + tma_coefficents[i][1],\n",
    "            u_s[i + 1]: solutions[i + 1]\n",
    "        })\n",
    "    print(f\"Уравнение {i + 1} после подстновки: {after_substitution}\")\n",
    "    solution = after_substitution.solve(u_s[i], solution_dict=True)\n",
    "    print(f\"Решение: {u_s[i]} = {solution[0][u_s[i]]}\")\n",
    "    print()\n",
    "    solutions[i] = solution[0][u_s[i]]\n",
    "\n",
    "print(list(map(RR, solutions)))"
   ],
   "metadata": {
    "collapsed": false
   }
  },
  {
   "cell_type": "code",
   "execution_count": 33,
   "outputs": [
    {
     "name": "stdout",
     "output_type": "stream",
     "text": [
      "[4.18554131424528, 4.12647324966931, 4.20482093328453, 4.24576239071640, 4.29593482678800, 4.34288083392754, 4.38907154486511, 4.43636961629419, 4.47415591670888, 4.54236153446056, 4.49121476429054]\n"
     ]
    }
   ],
   "source": [
    "etalonsolution = coefficents_matrix.solve_right(right_side)\n",
    "print(list(map(RR, etalonsolution)))"
   ],
   "metadata": {
    "collapsed": false
   }
  },
  {
   "cell_type": "code",
   "execution_count": 34,
   "outputs": [
    {
     "name": "stdout",
     "output_type": "stream",
     "text": [
      "\u001B[0;32mПогрешность для u0: 8.88178419700125e-16\u001B[0m\n",
      "\u001B[0;32mПогрешность для u1: 6.21724893790088e-15\u001B[0m\n",
      "\u001B[0;32mПогрешность для u2: 1.77635683940025e-15\u001B[0m\n",
      "\u001B[0;32mПогрешность для u3: 1.77635683940025e-15\u001B[0m\n",
      "\u001B[0;32mПогрешность для u4: 4.44089209850063e-15\u001B[0m\n",
      "\u001B[0;32mПогрешность для u5: 8.88178419700125e-16\u001B[0m\n",
      "\u001B[0;32mПогрешность для u6: 0.000000000000000\u001B[0m\n",
      "\u001B[0;32mПогрешность для u7: 8.88178419700125e-16\u001B[0m\n",
      "\u001B[0;32mПогрешность для u8: 8.88178419700125e-16\u001B[0m\n",
      "\u001B[0;32mПогрешность для u9: 3.55271367880050e-15\u001B[0m\n",
      "\u001B[0;32mПогрешность для u10: 8.88178419700125e-16\u001B[0m\n"
     ]
    }
   ],
   "source": [
    "for i in range(len(grid.x)):\n",
    "    if abs(solutions[i] - etalonsolution[i]) < 1e-10:\n",
    "        print(f\"\\033[0;32mПогрешность для {u_s[i]}: {RR(abs(solutions[i] - etalonsolution[i]))}\\033[0m\")\n",
    "    else:\n",
    "        print(f\"\\033[0;31mПогрешность для {u_s[i]}: {RR(abs(solutions[i] - etalonsolution[i]))}\\033[0m\")"
   ],
   "metadata": {
    "collapsed": false
   }
  },
  {
   "cell_type": "code",
   "execution_count": 35,
   "outputs": [],
   "source": [
    "a = []\n",
    "b = []\n",
    "for i in range(len(grid.x) - 1):\n",
    "    a.append(6 / grid.h * ((grid.y[i + 1] - grid.y[i]) / grid.h - (2 * solutions[i] + solutions[i + 1]) / 3))\n",
    "    b.append(12 / grid.h ** 2 * ((solutions[i] + solutions[i + 1]) / 2 - (grid.y[i + 1] - grid.y[i]) / grid.h))\n",
    "\n",
    "piecewice_function_middleware = []\n",
    "for i in range(len(grid.x) - 1):\n",
    "    piecewice_function_middleware.append(\n",
    "        ((grid.x[i], grid.x[i + 1]), grid.y[i] + solutions[i] * (x - grid.x[i]) + a[i] * ((x - grid.x[i]) ** 2) / 2 + a[i] * ((x - grid.x[i]) ** 3) / 6))\n",
    "final_function = piecewise(piecewice_function_middleware)"
   ],
   "metadata": {
    "collapsed": false
   }
  },
  {
   "cell_type": "code",
   "execution_count": 36,
   "outputs": [
    {
     "name": "stdout",
     "output_type": "stream",
     "text": [
      "4.36172890829329\n",
      "4.36161543196496\n",
      "Погрешность: 0.000113476328326811\n"
     ]
    }
   ],
   "source": [
    "# (final_function.plot(xmin=0.242, xmax=0.243)+y.plot(xmin=0.242, xmax=0.243, color='magenta')).show()\n",
    "# (final_function.plot(xmin=left_border, xmax=right_border)+y.plot(xmin=left_border, xmax=right_border, color='magenta')).show()\n",
    "# print(final_function)\n",
    "left_closest_node = 5\n",
    "\n",
    "difff = solutions[left_closest_node] + 6*(x-grid.x[left_closest_node])/grid.h*((grid.y[left_closest_node+1]-grid.y[left_closest_node])/grid.h-(solutions[left_closest_node+1]+2*solutions[left_closest_node])/3) + 6*(x-grid.x[left_closest_node])**2/(grid.h**2)*((solutions[left_closest_node+1]+solutions[left_closest_node])/2-(grid.y[left_closest_node+1]-grid.y[left_closest_node])/grid.h)\n",
    "print(difff(x=target_x))\n",
    "# print(diff(final_function, x, 1)(x=target_x))\n",
    "print(diff(y, x, 1)(x=target_x))\n",
    "print(f\"Погрешность: {abs(difff(x=target_x)-diff(y, x, 1)(x=target_x))}\")"
   ],
   "metadata": {
    "collapsed": false
   }
  },
  {
   "cell_type": "code",
   "execution_count": null,
   "outputs": [],
   "source": [],
   "metadata": {
    "collapsed": false
   }
  }
 ],
 "metadata": {
  "kernelspec": {
   "display_name": "SageMath 9.7",
   "language": "sage",
   "name": "sagemath"
  },
  "language_info": {
   "codemirror_mode": {
    "name": "ipython",
    "version": 3
   },
   "file_extension": ".py",
   "mimetype": "text/x-python",
   "name": "python",
   "nbconvert_exporter": "python",
   "pygments_lexer": "ipython3",
   "version": "3.10.8"
  }
 },
 "nbformat": 4,
 "nbformat_minor": 1
}
