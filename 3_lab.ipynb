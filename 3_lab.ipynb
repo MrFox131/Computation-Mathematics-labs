{
 "cells": [
  {
   "cell_type": "markdown",
   "source": [
    "## Костюков Максим Сергеевич\n",
    "Лабораторная работа номер 3\n",
    "Введем начальные условия, узлы сетки и значения в них\n",
    "Средствами sagemath введем переменую `x` и установим функцию\n",
    "Установим также целевое `x` согласно варинату"
   ],
   "metadata": {
    "collapsed": false
   }
  },
  {
   "cell_type": "code",
   "execution_count": 58,
   "outputs": [
    {
     "name": "stdout",
     "output_type": "stream",
     "text": [
      "0.200000000000000\n"
     ]
    },
    {
     "data": {
      "image/png": "[encoded data removed]",
      "text/plain": "Graphics object consisting of 2 graphics primitives"
     },
     "metadata": {},
     "output_type": "display_data"
    }
   ],
   "source": [
    "left_border = 0.1\n",
    "right_border = 0.6\n",
    "steps_count = 10\n",
    "step = (right_border - left_border)/steps_count\n",
    "x_axis = [left_border + i * step for i in range(steps_count + 1)]\n",
    "\n",
    "\n",
    "x = var('x')\n",
    "y = 4*x-cos(x)\n",
    "\n",
    "values = [y(x=i) for i in x_axis]\n",
    "p = y.plot(xmin=left_border, xmax=right_border)\n",
    "p += point(zip(x_axis, values), color='red', pointsize=20)\n",
    "target_x = x_axis[2]\n",
    "print(target_x)\n",
    "p.show()"
   ],
   "metadata": {
    "collapsed": false
   }
  },
  {
   "cell_type": "markdown",
   "source": [
    "Функция `lagrange` конструирует интерполяционный полином Лагранжа `n`-ого порядка."
   ],
   "metadata": {
    "collapsed": false
   }
  },
  {
   "cell_type": "code",
   "execution_count": 70,
   "id": "ab5f1380",
   "metadata": {},
   "outputs": [],
   "source": [
    "h = var('h')\n",
    "def lagrange(n, values, nodes):\n",
    "    assert len(nodes) - 1 == n\n",
    "    polinomial = 0\n",
    "    for i in range(len(nodes)):\n",
    "        sum_element = values[nodes[i]]\n",
    "        for j in range(0, len(nodes)):\n",
    "            if i!=j:\n",
    "                sum_element *= (x-x_axis[j])/(h*(i-j))\n",
    "        polinomial += sum_element\n",
    "    return polinomial\n"
   ]
  },
  {
   "cell_type": "code",
   "execution_count": 79,
   "id": "e9854654",
   "metadata": {},
   "outputs": [
    {
     "name": "stdout",
     "output_type": "stream",
     "text": [
      "0.0101943129530998*(x - 0.100000000000000)*(x - 0.150000000000000)*(x - 0.200000000000000)*(x - 0.250000000000000)/h^4 - 0.00518126304822588*(x - 0.100000000000000)*(x - 0.150000000000000)*(x - 0.200000000000000)*(x - 0.300000000000000)/h^4 - 0.0450166444603104*(x - 0.100000000000000)*(x - 0.150000000000000)*(x - 0.250000000000000)*(x - 0.300000000000000)/h^4 + 0.0647951796560070*(x - 0.100000000000000)*(x - 0.200000000000000)*(x - 0.250000000000000)*(x - 0.300000000000000)/h^4 - 0.0247918402199177*(x - 0.150000000000000)*(x - 0.200000000000000)*(x - 0.250000000000000)*(x - 0.300000000000000)/h^4\n"
     ]
    }
   ],
   "source": [
    "closest_left_node = int((target_x - left_border) / step)\n",
    "L4 = lagrange(4, values, [closest_left_node-2, closest_left_node-1, closest_left_node, closest_left_node+1, closest_left_node+2])\n",
    "print(L4)"
   ]
  },
  {
   "cell_type": "code",
   "execution_count": 80,
   "outputs": [
    {
     "name": "stdout",
     "output_type": "stream",
     "text": [
      "0.00501304990487388*(x - 0.100000000000000)*(x - 0.150000000000000)*(x - 0.200000000000000)/h^4 - 0.0348223315072106*(x - 0.100000000000000)*(x - 0.150000000000000)*(x - 0.250000000000000)/h^4 + 0.0749894926091068*(x - 0.100000000000000)*(x - 0.200000000000000)*(x - 0.250000000000000)/h^4 - 0.0145975272668180*(x - 0.150000000000000)*(x - 0.200000000000000)*(x - 0.250000000000000)/h^4 - 0.0501979075085363*(x - 0.100000000000000)*(x - 0.150000000000000)*(x - 0.300000000000000)/h^4 + 0.0596139166077811*(x - 0.100000000000000)*(x - 0.200000000000000)*(x - 0.300000000000000)/h^4 - 0.0299731032681436*(x - 0.150000000000000)*(x - 0.200000000000000)*(x - 0.300000000000000)/h^4 + 0.0197785351956966*(x - 0.100000000000000)*(x - 0.250000000000000)*(x - 0.300000000000000)/h^4 - 0.0698084846802281*(x - 0.150000000000000)*(x - 0.250000000000000)*(x - 0.300000000000000)/h^4 + 0.0400033394360893*(x - 0.200000000000000)*(x - 0.250000000000000)*(x - 0.300000000000000)/h^4\n"
     ]
    }
   ],
   "source": [
    "L4_1 = diff(L4, x, 1)\n",
    "print(L4_1)"
   ],
   "metadata": {
    "collapsed": false
   }
  },
  {
   "cell_type": "code",
   "execution_count": 85,
   "outputs": [
    {
     "name": "stdout",
     "output_type": "stream",
     "text": [
      "-0.0145975272668180*(2*h - 0.0500000000000000)*(2*h - 0.100000000000000)*(2*h - 0.150000000000000)/h^4 - 0.0299731032681436*(2*h - 0.0500000000000000)*(2*h - 0.100000000000000)*(2*h - 0.200000000000000)/h^4 - 0.0698084846802281*(2*h - 0.0500000000000000)*(2*h - 0.150000000000000)*(2*h - 0.200000000000000)/h^4 + 0.0400033394360893*(2*h - 0.100000000000000)*(2*h - 0.150000000000000)*(2*h - 0.200000000000000)/h^4 + 0.0100260998097478*(2*h - 0.0500000000000000)*(2*h - 0.100000000000000)/h^3 - 0.0696446630144213*(2*h - 0.0500000000000000)*(2*h - 0.150000000000000)/h^3 + 0.149978985218214*(2*h - 0.100000000000000)*(2*h - 0.150000000000000)/h^3 - 0.100395815017073*(2*h - 0.0500000000000000)*(2*h - 0.200000000000000)/h^3 + 0.119227833215562*(2*h - 0.100000000000000)*(2*h - 0.200000000000000)/h^3 + 0.0395570703913933*(2*h - 0.150000000000000)*(2*h - 0.200000000000000)/h^3\n",
      "4.19866928941793\n",
      "4.19866928941793\n",
      "4.19866933079506\n"
     ]
    }
   ],
   "source": [
    "print(L4_1(x=(2*h+0.1)))\n",
    "print(L4_1(x=x_axis[2], h = step))\n",
    "test = values[0]/(12*step)-2*values[1]/(3*step)+2*values[3]/(3*step)-values[4]/(12*step)\n",
    "print(test)\n",
    "print(diff(y,x,1)(x=target_x))"
   ],
   "metadata": {
    "collapsed": false
   }
  },
  {
   "cell_type": "code",
   "execution_count": 51,
   "outputs": [
    {
     "name": "stdout",
     "output_type": "stream",
     "text": [
      "1/120*(x - 0.100000000000000)*(x - 0.150000000000000)*(x - 0.200000000000000)*(x - 0.250000000000000)*(x - 0.300000000000000)*cos(x) + 1/120*(x - 0.100000000000000)*(x - 0.150000000000000)*(x - 0.200000000000000)*(x - 0.250000000000000)*sin(x) + 1/120*(x - 0.100000000000000)*(x - 0.150000000000000)*(x - 0.200000000000000)*(x - 0.300000000000000)*sin(x) + 1/120*(x - 0.100000000000000)*(x - 0.150000000000000)*(x - 0.250000000000000)*(x - 0.300000000000000)*sin(x) + 1/120*(x - 0.100000000000000)*(x - 0.200000000000000)*(x - 0.250000000000000)*(x - 0.300000000000000)*sin(x) + 1/120*(x - 0.150000000000000)*(x - 0.200000000000000)*(x - 0.250000000000000)*(x - 0.300000000000000)*sin(x)\n"
     ]
    }
   ],
   "source": [
    "R5 = diff(y, x, 4+1)/factorial(4+1)*(x-x_axis[0])*(x-x_axis[1])*(x-x_axis[2])*(x-x_axis[3])*(x-x_axis[4])\n",
    "R5_1 = diff(R5, x, 1)\n",
    "print(R5_1)"
   ],
   "metadata": {
    "collapsed": false
   }
  },
  {
   "cell_type": "code",
   "execution_count": 52,
   "outputs": [
    {
     "name": "stdout",
     "output_type": "stream",
     "text": [
      "-7.73137372670385e-8\n",
      "3.69400258326675e-7\n"
     ]
    }
   ],
   "source": [
    "\n",
    "\n",
    "minR5_1 = min(R5_1(x=x_axis[0]), R5_1(x=x_axis[1]), R5_1(x=x_axis[2]), R5_1(x=x_axis[3]), R5_1(x=x_axis[4]))\n",
    "maxR5_1 = max(R5_1(x=x_axis[0]), R5_1(x=x_axis[1]), R5_1(x=x_axis[2]), R5_1(x=x_axis[3]), R5_1(x=x_axis[4]))\n",
    "\n",
    "print(minR5_1)\n",
    "print(maxR5_1)"
   ],
   "metadata": {
    "collapsed": false
   }
  },
  {
   "cell_type": "markdown",
   "source": [],
   "metadata": {
    "collapsed": false
   }
  },
  {
   "cell_type": "code",
   "execution_count": 53,
   "outputs": [],
   "source": [
    "R = diff(y, x, 1)(x=target_x) - L4_1(x=2, h=step)"
   ],
   "metadata": {
    "collapsed": false
   }
  },
  {
   "cell_type": "code",
   "execution_count": 54,
   "outputs": [],
   "source": [
    "if (minR5_1 <= R and R <= maxR5_1):\n",
    "    print(\"ЕЕЕЕ\")\n",
    "    print(minR5_1 <= R, R <= maxR5_1)"
   ],
   "metadata": {
    "collapsed": false
   }
  },
  {
   "cell_type": "code",
   "execution_count": 9,
   "outputs": [],
   "source": [],
   "metadata": {
    "collapsed": false
   }
  }
 ],
 "metadata": {
  "kernelspec": {
   "display_name": "SageMath 9.6",
   "language": "sage",
   "name": "sagemath"
  },
  "language_info": {
   "codemirror_mode": {
    "name": "ipython",
    "version": 3
   },
   "file_extension": ".py",
   "mimetype": "text/x-python",
   "name": "python",
   "nbconvert_exporter": "python",
   "pygments_lexer": "ipython3",
   "version": "3.10.6"
  }
 },
 "nbformat": 4,
 "nbformat_minor": 5
}
