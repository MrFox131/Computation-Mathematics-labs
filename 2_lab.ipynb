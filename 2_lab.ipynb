{
 "cells": [
  {
   "cell_type": "markdown",
   "source": [
    "## Костюков Максим Сергеевич\n",
    "Лабораторная работа номер 2\n",
    "Введем начальные условия, узлы сетки и значения в них\n",
    "Средствами sagemath введем переменую `x` и установим функцию"
   ],
   "metadata": {
    "collapsed": false
   }
  },
  {
   "cell_type": "code",
   "execution_count": 13,
   "outputs": [
    {
     "data": {
      "image/png": "[encoded data removed]",
      "text/plain": "Graphics object consisting of 2 graphics primitives"
     },
     "metadata": {},
     "output_type": "display_data"
    }
   ],
   "source": [
    "target_xs = [0.12, 0.57, 0.37]\n",
    "left_border = 0.1\n",
    "right_border = 0.6\n",
    "steps_count = 10\n",
    "step = (right_border - left_border)/steps_count\n",
    "x_axis = [left_border + i * step for i in range(steps_count + 1)]\n",
    "\n",
    "\n",
    "x = var('x')\n",
    "y = 4*x-cos(x)\n",
    "\n",
    "values = [y(x=i) for i in x_axis]\n",
    "p = y.plot(xmin=left_border, xmax=right_border)\n",
    "p += point(zip(x_axis, values), color='red', pointsize=20)\n",
    "p.show()"
   ],
   "metadata": {
    "collapsed": false
   }
  },
  {
   "cell_type": "markdown",
   "source": [
    "Функция `lagrange` конструирует интерполяционный полином Лагранжа `n`-ого порядка."
   ],
   "metadata": {
    "collapsed": false
   }
  },
  {
   "cell_type": "markdown",
   "source": [
    "Для `target_xs[0]` очевидно начало отрезка - ближайшая точка\n"
   ],
   "metadata": {
    "collapsed": false
   }
  },
  {
   "cell_type": "code",
   "execution_count": 14,
   "outputs": [
    {
     "name": "stdout",
     "output_type": "stream",
     "text": [
      "0.400000000000000\n"
     ]
    }
   ],
   "source": [
    "t = (target_xs[0]-left_border) * 10 / (right_border - left_border)\n",
    "print(t)"
   ],
   "metadata": {
    "collapsed": false
   }
  },
  {
   "cell_type": "markdown",
   "source": [
    "Очевидно релевантно использование 1-ой формулы Ньютона. Аналогичными рассуждениями получаем, что для `target_xs[1]` релевантно использование второй формулы Ньютона, поскольку она близка к концу отрезка\n",
    "Напишем генератор конечных разностей вперед, а так же генератор разностей вперед для перенумерованных узлов"
   ],
   "metadata": {
    "collapsed": false
   }
  },
  {
   "cell_type": "code",
   "execution_count": 15,
   "outputs": [],
   "source": [
    "def findif(values):\n",
    "    findifs = [[None for i in range(len(x_axis)-i)] for i in range(len(x_axis))]\n",
    "    def get_divdif(n, starting_point):\n",
    "        if findifs[starting_point][n] is not None:\n",
    "            return findifs[starting_point][n]\n",
    "        if n == 0:\n",
    "            return values[starting_point]\n",
    "        findifs[starting_point][n]=(get_divdif(n-1, starting_point+1)-get_divdif(n-1, starting_point))\n",
    "        return findifs[starting_point][n]\n",
    "    return get_divdif\n",
    "\n",
    "\n",
    "def reverse_findif(values):\n",
    "    findifs = [[None for i in range(len(x_axis) - i)] for i in range(len(x_axis))]\n",
    "\n",
    "    def get_divdif(n, starting_point):\n",
    "        if findifs[starting_point][n] is not None:\n",
    "            return findifs[starting_point][n]\n",
    "        if n == 0:\n",
    "            return values[starting_point]\n",
    "        findifs[starting_point][n] = (get_divdif(n - 1, starting_point) - get_divdif(n - 1, starting_point + 1))\n",
    "        return findifs[starting_point][n]\n",
    "\n",
    "    return get_divdif\n",
    "\n",
    "findiffer = findif(values)\n",
    "reverse_findiffer = reverse_findif(list(reversed(values)))"
   ],
   "metadata": {
    "collapsed": false
   }
  },
  {
   "cell_type": "code",
   "execution_count": 16,
   "outputs": [],
   "source": [
    "def FirstNewton(target_x):\n",
    "    t = (target_x-left_border) * steps_count / (right_border - left_border)\n",
    "    newton_formula = 0\n",
    "    for i in range(steps_count+1):\n",
    "        sum_element = findiffer(i, 0)\n",
    "        # print(sum_element)\n",
    "        for j in range(i):\n",
    "            sum_element *= (t-j)\n",
    "        sum_element /= factorial(i)\n",
    "        newton_formula += sum_element\n",
    "    return newton_formula"
   ],
   "metadata": {
    "collapsed": false
   }
  },
  {
   "cell_type": "code",
   "execution_count": 17,
   "outputs": [],
   "source": [
    "def SecondNewton(target_x):\n",
    "    t = (target_x-right_border) * steps_count / (right_border - left_border)\n",
    "    newton_formula = 0\n",
    "    for i in range(steps_count+1):\n",
    "        sum_element = reverse_findiffer(i, 0)\n",
    "        # print(sum_element)\n",
    "        for j in range(i):\n",
    "            sum_element *= (t+j)\n",
    "        sum_element /= factorial(i)\n",
    "        newton_formula += sum_element\n",
    "    return newton_formula"
   ],
   "metadata": {
    "collapsed": false
   }
  },
  {
   "cell_type": "code",
   "execution_count": 18,
   "outputs": [
    {
     "name": "stdout",
     "output_type": "stream",
     "text": [
      "Вычисленное занчение в первой точке по первой формуле Ньютона:\n",
      "-0.935208635853867\n",
      "-0.935208635853866\n",
      "Вычисленное занчение во второй точке по второй формуле Ньютона:\n",
      "0.457699024837732\n",
      "0.457699024837731\n"
     ]
    }
   ],
   "source": [
    "print(\"Вычисленное занчение в первой точке по первой формуле Ньютона:\")\n",
    "print(FirstNewton(target_x=target_xs[0]))\n",
    "print(y(x=target_xs[0]))\n",
    "print(\"Вычисленное занчение во второй точке по второй формуле Ньютона:\")\n",
    "print(SecondNewton(target_x=target_xs[1]))\n",
    "print(y(x=target_xs[1]))\n"
   ],
   "metadata": {
    "collapsed": false
   }
  },
  {
   "cell_type": "markdown",
   "source": [
    "Для третьей точки очевидно, что так как"
   ],
   "metadata": {
    "collapsed": false
   }
  },
  {
   "cell_type": "code",
   "execution_count": 19,
   "outputs": [
    {
     "name": "stdout",
     "output_type": "stream",
     "text": [
      "0.400000000000000 <= 0.5\n"
     ]
    }
   ],
   "source": [
    "t = (target_xs[2]-x_axis[5])*steps_count/(right_border-left_border)\n",
    "print(t, \"<= 0.5\")"
   ],
   "metadata": {
    "collapsed": false
   }
  },
  {
   "cell_type": "markdown",
   "source": [
    "релевантно применение первой формулы Гаусса."
   ],
   "metadata": {
    "collapsed": false
   }
  },
  {
   "cell_type": "code",
   "execution_count": 20,
   "outputs": [],
   "source": [
    "def FirstGauss(target_x):\n",
    "    t = (target_x-x_axis[5])*steps_count/(right_border-left_border)\n",
    "\n",
    "    gauss_function = 0\n",
    "    last_t = 1\n",
    "    for i in range(0, steps_count+1, 2):\n",
    "        sum_element1 = findiffer(i, 5-i//2)\n",
    "        if i != steps_count:\n",
    "            sum_element2 = findiffer(i+1, 5-i//2)\n",
    "        sum_element1 *= last_t\n",
    "        last_t *= (t+i//2)\n",
    "        sum_element1 /= factorial(i)\n",
    "        if i != steps_count:\n",
    "            sum_element2*=last_t\n",
    "            last_t *= (t-i//2-1)\n",
    "            sum_element2 /= factorial(i+1)\n",
    "        gauss_function += sum_element1\n",
    "        if i != steps_count:\n",
    "            gauss_function += sum_element2\n",
    "\n",
    "    return gauss_function"
   ],
   "metadata": {
    "collapsed": false
   }
  },
  {
   "cell_type": "code",
   "execution_count": 21,
   "outputs": [
    {
     "name": "stdout",
     "output_type": "stream",
     "text": [
      "Вычисленное значение во второй точке по первой формуле Гаусса\n",
      "-0.384727345606034\n",
      "-0.384727345606034\n"
     ]
    }
   ],
   "source": [
    "print(\"Вычисленное значение во второй точке по первой формуле Гаусса\")\n",
    "print(FirstGauss(target_x=target_xs[2]))\n",
    "print(y(x=target_xs[2]))"
   ],
   "metadata": {
    "collapsed": false
   }
  },
  {
   "cell_type": "code",
   "execution_count": 22,
   "id": "b8a14450",
   "metadata": {},
   "outputs": [],
   "source": [
    "def omega(n):\n",
    "    omega = 1\n",
    "    for i in range(n):\n",
    "        omega *= (x-x_axis[i])\n",
    "    return omega\n",
    "min_diff = min([diff(y, x, 11)(x=x_axis[i]) for i in range(11)])\n",
    "# min_diff = find_local_minimum(diff(y, x, 11), left_border, right_border)[0]\n",
    "max_diff = max([diff(y, x, 11)(x=x_axis[i]) for i in range(11)])\n",
    "# max_diff = find_local_maximum(diff(y, x, 11), left_border, right_border)[0]\n",
    "\n",
    "R10_min = min_diff/factorial(11)*omega(11)\n",
    "R10_max = max_diff/factorial(11)*omega(11)\n"
   ]
  },
  {
   "cell_type": "markdown",
   "source": [
    "Проверим условие для всех `x`"
   ],
   "metadata": {
    "collapsed": false
   }
  },
  {
   "cell_type": "code",
   "execution_count": 23,
   "outputs": [
    {
     "name": "stdout",
     "output_type": "stream",
     "text": [
      "(-2.64830510070450e-17) <= (-5.55111512312578e-16) and (-5.55111512312578e-16) <= (-4.68242045159753e-18)\n",
      "(1.68260656445051e-17) <= (7.21644966006352e-16) and (7.21644966006352e-16) <= (2.97498629870080e-18)\n",
      "(3.09968390764833e-19) <= (5.55111512312578e-17) and (5.55111512312578e-17) <= (5.48049517361095e-20)\n",
      "Первая формула Ньютона построена НЕВЕРНО\n",
      "Вторая формула Ньютона построена НЕВЕРНО\n",
      "Первая формула Гаусса построена НЕВЕРНО\n"
     ]
    }
   ],
   "source": [
    "# print(FirstNewton(target_xs[0]) - y(x=target_xs[0]))\n",
    "print(R10_min(x=target_xs[0]) <= (FirstNewton(target_xs[0]) - y(x=target_xs[0])), \"and\",  (FirstNewton(target_xs[0]) - y(x=target_xs[0])) <= R10_max(x=target_xs[0]))\n",
    "print(R10_min(x=target_xs[1]) <= (SecondNewton(target_xs[1]) - y(x=target_xs[1])), \"and\", (SecondNewton(target_xs[1]) - y(x=target_xs[1])) <= R10_max(x=target_xs[1]))\n",
    "print(R10_min(x=target_xs[2]) <= (FirstGauss(target_xs[2]) - y(x=target_xs[2])), \"and\", (FirstGauss(target_xs[2]) - y(x=target_xs[2])) <= R10_max(x=target_xs[2]))\n",
    "if R10_min(x=target_xs[0]) <= (FirstNewton(target_xs[0]) - y(x=target_xs[0])) <= R10_max(x=target_xs[0]):\n",
    "    print(\"Первая формула Ньютона построена ВЕРНО\")\n",
    "else:\n",
    "    print(\"Первая формула Ньютона построена НЕВЕРНО\")\n",
    "# print(abs(SecondNewton(target_xs[1])-y(x=target_xs[1])))\n",
    "if R10_min(x=target_xs[1]) <=  (SecondNewton(target_xs[1]) - y(x=target_xs[1])) <= R10_max(x=target_xs[1]):\n",
    "    print(\"Вторая формула Ньютона построена ВЕРНО\")\n",
    "else:\n",
    "    print(\"Вторая формула Ньютона построена НЕВЕРНО\")\n",
    "# print(abs(FirstGauss(target_xs[2])-y(x=target_xs[2])))\n",
    "if R10_min(x=target_xs[2]) <=  (FirstGauss(target_xs[2]) - y(x=target_xs[2])) <= R10_max(x=target_xs[2]):\n",
    "    print(\"Первая формула Гаусса построена ВЕРНО\")\n",
    "else:\n",
    "    print(\"Первая формула Гаусса построена НЕВЕРНО\")"
   ],
   "metadata": {
    "collapsed": false
   }
  },
  {
   "cell_type": "code",
   "execution_count": 23,
   "outputs": [],
   "source": [],
   "metadata": {
    "collapsed": false
   }
  }
 ],
 "metadata": {
  "kernelspec": {
   "display_name": "SageMath 9.6",
   "language": "sage",
   "name": "sagemath"
  },
  "language_info": {
   "codemirror_mode": {
    "name": "ipython",
    "version": 3
   },
   "file_extension": ".py",
   "mimetype": "text/x-python",
   "name": "python",
   "nbconvert_exporter": "python",
   "pygments_lexer": "ipython3",
   "version": "3.10.6"
  }
 },
 "nbformat": 4,
 "nbformat_minor": 5
}
