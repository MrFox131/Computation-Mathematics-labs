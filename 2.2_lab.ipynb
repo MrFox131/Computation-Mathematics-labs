{
 "cells": [
  {
   "cell_type": "code",
   "execution_count": 1,
   "outputs": [],
   "source": [
    "import math\n",
    "\n",
    "size = int(input(\"Введите желаемую размерность матрицы\"))"
   ],
   "metadata": {
    "collapsed": false
   }
  },
  {
   "cell_type": "code",
   "execution_count": 2,
   "outputs": [],
   "source": [
    "def get_random_matrix(size: int, max_value: int, min_value: int) -> Matrix:\n",
    "    return Matrix(QQ, [[math.floor(random()*(max_value-min_value)+min_value) for i in range(size)] for _ in range(size)])\n",
    "def get_random_rightside(size: int, max_value: int, min_value: int) -> vector:\n",
    "    return vector([math.floor(random()*(max_value-min_value)+min_value) for i in range(size)])"
   ],
   "metadata": {
    "collapsed": false
   }
  },
  {
   "cell_type": "code",
   "execution_count": 3,
   "outputs": [
    {
     "name": "stdout",
     "output_type": "stream",
     "text": [
      "[ 24  21  -7 -27  49 -49 -30]\n",
      "[-34 -47 -18   4 -15 -41  29]\n",
      "[-23  -1  45  26 -22  35 -14]\n",
      "[ 13  46  39 -12   4  24  12]\n",
      "[ 33  28  -9  33   6  25 -43]\n",
      "[-10  43   2 -40 -39 -46  18]\n",
      "[-24 -36   5 -11  45 -37  -2]\n",
      "(23, 22, 40, 45, 32, -16, 12)\n"
     ]
    }
   ],
   "source": [
    "print(get_random_matrix(size, -50, 50))\n",
    "print(get_random_rightside(size, -50, 50))"
   ],
   "metadata": {
    "collapsed": false
   }
  },
  {
   "cell_type": "code",
   "execution_count": 4,
   "outputs": [],
   "source": [
    "from typing import List, Tuple, Optional\n",
    "def get_max_abs(matrix: Matrix, excluded_cols: Optional[List[int]]=None, excluded_rows: Optional[List[int]]=None) -> Tuple[int]:\n",
    "    if excluded_cols is None:\n",
    "        excluded_cols = []\n",
    "    if excluded_rows is None:\n",
    "        excluded_rows = []\n",
    "    max_coordinates = (-1, -1)\n",
    "    for j in range(size):\n",
    "        if j in excluded_cols:\n",
    "            continue\n",
    "        temp_max = -1\n",
    "        temp_coords = (-1, -1)\n",
    "        for i in range(size):\n",
    "            if i in excluded_rows:\n",
    "                continue\n",
    "            if abs(matrix[i, j]) > temp_max:\n",
    "                temp_max = abs(matrix[i, j])\n",
    "                temp_coords = (i, j)\n",
    "        if max_coordinates == (-1, -1) or temp_max > abs(matrix[max_coordinates[0], max_coordinates[1]]):\n",
    "            max_coordinates = temp_coords\n",
    "    return max_coordinates\n",
    "\n",
    "def nullate_elements(matrix: Matrix, rs: vector, coords: Tuple[int], excluded_rows: Optional[List[int]]=None) -> (Matrix, vector):\n",
    "    rs: List[float] = rs.list()\n",
    "    \n",
    "    if excluded_rows is None:\n",
    "        excluded_rows = []\n",
    "    elem = matrix[coords[0],coords[1]]\n",
    "    for i in range(size):\n",
    "        matrix[coords[0],i]/=elem\n",
    "    rs[coords[0]]/=elem\n",
    "    for i in range(size):\n",
    "        if i in excluded_rows or i == coords[0]:\n",
    "            continue\n",
    "        rs[i] -= matrix[i, coords[1]]*rs[coords[0]]\n",
    "        coeff = matrix[i, coords[1]]\n",
    "        for j in range(size):\n",
    "            matrix[i, j] -= coeff*matrix[coords[0], j]\n",
    "    return matrix, vector(rs)\n",
    "        \n",
    "        "
   ],
   "metadata": {
    "collapsed": false
   }
  },
  {
   "cell_type": "code",
   "execution_count": 4,
   "outputs": [],
   "source": [],
   "metadata": {
    "collapsed": false
   }
  },
  {
   "cell_type": "code",
   "execution_count": 4,
   "outputs": [],
   "source": [],
   "metadata": {
    "collapsed": false
   }
  },
  {
   "cell_type": "code",
   "execution_count": 4,
   "outputs": [],
   "source": [],
   "metadata": {
    "collapsed": false
   }
  },
  {
   "cell_type": "code",
   "execution_count": 5,
   "outputs": [
    {
     "name": "stdout",
     "output_type": "stream",
     "text": [
      "[ 411/1000  421/1000 -333/1000  313/1000 -141/1000 -381/1000    49/200]\n",
      "[ 241/1000   141/200  139/1000 -409/1000  321/1000      1/16  101/1000]\n",
      "[ 123/1000 -239/1000   251/500  901/1000  243/1000  819/1000  321/1000]\n",
      "[ 413/1000  309/1000  801/1000   173/200  423/1000    59/500  183/1000]\n",
      "[ 241/1000 -221/1000 -243/1000    67/500   637/500    89/125  423/1000]\n",
      "[ 281/1000     21/40  719/1000    59/500  -487/500   101/125  923/1000]\n",
      "[  123/500 -301/1000  231/1000  813/1000  -351/500 1223/1000   221/200] (0.0960000000000000, 1.25200000000000, 1.02400000000000, 1.02300000000000, 1.15500000000000, 1.93700000000000, 1.67300000000000)\n",
      "(4, 4)\n",
      "(6, 5)\n",
      "(3, 2)\n",
      "(5, 3)\n",
      "(0, 1)\n",
      "(2, 6)\n",
      "(1, 0)\n",
      "Полученные урванения\n",
      "548575751247709/807745237558238*x0 + x1 + 571838751155737/807745237558238*x6 == 1.51327946505640\n",
      "x0 == 11.0919696281674\n",
      "3197812732669027/5757263014285571*x0 + x6 == 1.21133102986232\n",
      "742391297/1829083785*x0 + 144626311/365816757*x1 + x2 + 1822320052/1829083785*x3 + 289413283/1829083785*x6 == 0.909980039542038\n",
      "241/1274*x0 - 17/98*x1 - 243/1274*x2 + 67/637*x3 + x4 + 356/637*x5 + 423/1274*x6 == 0.906593406593407\n",
      "32287701941/889176354856*x0 - 242954734865/444588177428*x1 + x3 - 49982220791/889176354856*x6 == -0.488900274850878\n",
      "18561/79151*x0 - 20716/79151*x1 + 4758/79151*x2 + 43455/79151*x3 + x5 + 65566/79151*x6 == 1.42969766648558\n",
      "Порядок решения уравнений: 2, 3, 1, 6, 4, 7, 5\n",
      "x0 == 11.0919696281674\n",
      "{x0: 299151763/26970121}\n",
      "x6 + 956631316721787122544601/155274080124106578424091 == 1.21133102986232\n",
      "{x6: -42597833/8606336}\n",
      "x1 + 755395802812308386573317248471/187488916105754581965168272128 == 1.51327946505640\n",
      "{x1: -21224173/8436565}\n",
      "x3 + 715912853457734351613367941089111/348244888150474851188213924512768 == -0.488900274850878\n",
      "{x3: -43696954/17171923}\n",
      "x2 + 464971548129523175883134011173804827/2460250748507099416404340398289742208 == 0.909980039542038\n",
      "{x2: 61457726/85241163}\n",
      "x5 - 82971999368860693957350829045833758719433/37812927654676202154614309319746569482560 == 1.42969766648558\n",
      "{x5: 34392927/9490391}\n",
      "x4 + 29012608243875798403338371965349933989218394969/11552272557797875815520493387083368290731854080 == 0.906593406593407\n",
      "{x4: -22401012/13958525}\n",
      "Финальное решение:\n",
      "[1.95399252334028e-14, 3.55271367880050e-15, 2.22044604925031e-16, 2.22044604925031e-15, 1.77635683940025e-15, 8.43769498715119e-15, 1.77635683940025e-14]\n",
      "(11.0919696281674, -2.51573632159534, 0.720986479267065, -2.54467446656964, -1.60482658447078, 3.62397365925175, -4.94958981383016)\n"
     ]
    }
   ],
   "source": [
    "# m = get_random_matrix(size, -50, 50)\n",
    "# rs = get_random_rightside(size, -50, 50)\n",
    "m = Matrix(QQ, [[0.411, 0.421, -0.333, 0.313, -0.141, -0.381, 0.245], [0.241, 0.705, 0.139, -0.409, 0.321, 0.0625, 0.101],\n",
    "                [0.123, -0.239, 0.502, 0.901, 0.243, 0.819, 0.321], [0.413, 0.309, 0.801, 0.865, 0.423, 0.118, 0.183],\n",
    "                [0.241, -0.221, -0.243, 0.134, 1.274, 0.712, 0.423], [0.281, 0.525, 0.719, 0.118, -0.974, 0.808, 0.923],\n",
    "                [0.246, -0.301, 0.231, 0.813, -0.702, 1.223, 1.105]])\n",
    "rs = vector([0.096, 1.252, 1.024, 1.023, 1.155, 1.937, 1.673])\n",
    "etalon = m.solve_right(rs)\n",
    "excluded_rows = []\n",
    "excluded_cols = []\n",
    "print(m, rs)\n",
    "for i in range(size):\n",
    "    coords = get_max_abs(m, excluded_cols, excluded_rows)\n",
    "    print(coords)\n",
    "    excluded_cols.append(coords[1])\n",
    "    excluded_rows.append(coords[0])\n",
    "    \n",
    "    m, rs = nullate_elements(m, rs, coords, excluded_rows)\n",
    "    # print(m, rs)\n",
    "\n",
    "vars = []\n",
    "for i in range(size):\n",
    "    vars.append(var(f'x{i}'))\n",
    "\n",
    "print(\"Полученные урванения\")\n",
    "equations = []\n",
    "for i in range(size):\n",
    "    # equations.append(m[i][0]*vars[0]+m[i][1]*vars[1]+m[i][2]*vars[2]==rs[i])\n",
    "    equations.append(sum([m[i][j]*vars[j] for j in range(size)])==rs[i])\n",
    "print('\\n'.join(map(str, equations)))\n",
    "print(\"Порядок решения уравнений:\", ', '.join(map(lambda x: str(x+1), list(reversed(excluded_rows)))))\n",
    "fs = []\n",
    "for i in range(len(list(reversed(excluded_rows)))):\n",
    "    # print(len(equations), i, list(reversed(excluded_cols))[i])\n",
    "    variable = vars[list(reversed(excluded_cols))[i]]\n",
    "    print(equations[list(reversed(excluded_rows))[i]])\n",
    "    solution = equations[list(reversed(excluded_rows))[i]].solve(variable, solution_dict=True)\n",
    "    # print(\"sol\", solution)\n",
    "    solution = solution[0]\n",
    "    print(solution)\n",
    "    fs.append(solution)\n",
    "    for j in range(i+1, len(list(reversed(excluded_rows)))):\n",
    "        equations[list(reversed(excluded_rows))[j]] = equations[list(reversed(excluded_rows))[j]].subs(solution)\n",
    "    # print(len(equations))\n",
    "\n",
    "fs.sort(key=lambda x: str(list(x.keys())[0]))\n",
    "print(\"Финальное решение:\")\n",
    "res = tuple(map(lambda x: RR(x[list(x.keys())[0]]), fs))\n",
    "print(list(map(lambda x: abs(x[0]-x[1]), zip(res, etalon))))\n",
    "print(etalon)"
   ],
   "metadata": {
    "collapsed": false
   }
  },
  {
   "cell_type": "code",
   "execution_count": 5,
   "outputs": [],
   "source": [],
   "metadata": {
    "collapsed": false
   }
  },
  {
   "cell_type": "code",
   "execution_count": 5,
   "outputs": [],
   "source": [],
   "metadata": {
    "collapsed": false
   }
  }
 ],
 "metadata": {
  "kernelspec": {
   "display_name": "SageMath 9.7",
   "language": "sage",
   "name": "sagemath"
  },
  "language_info": {
   "codemirror_mode": {
    "name": "ipython",
    "version": 3
   },
   "file_extension": ".py",
   "mimetype": "text/x-python",
   "name": "python",
   "nbconvert_exporter": "python",
   "pygments_lexer": "ipython3",
   "version": "3.10.8"
  }
 },
 "nbformat": 4,
 "nbformat_minor": 1
}
